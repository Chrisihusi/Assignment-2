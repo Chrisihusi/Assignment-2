{
 "cells": [
  {
   "cell_type": "markdown",
   "metadata": {},
   "source": [
    "# Assignment 2: Jetty Scheduling\n",
    "\n",
    "Name: **Moritz Grävinghoff, Frederic Weiss, Christian Husmann**\\\n",
    "Data of submission: **01.04.2024**"
   ]
  },
  {
   "cell_type": "markdown",
   "metadata": {},
   "source": [
    "## Question 3\n",
    "\n",
    "Heuristic Approach: Decomposition by ships"
   ]
  },
  {
   "cell_type": "markdown",
   "metadata": {},
   "source": [
    "### Import all required packages"
   ]
  },
  {
   "cell_type": "code",
   "execution_count": 1,
   "metadata": {},
   "outputs": [],
   "source": [
    "import pandas as pd\n",
    "from docplex.mp.model import Model\n",
    "from itertools import product\n",
    "from plotly import figure_factory as ff\n",
    "import colorsys"
   ]
  },
  {
   "cell_type": "markdown",
   "metadata": {},
   "source": [
    "### 1. Load data"
   ]
  },
  {
   "cell_type": "code",
   "execution_count": 2,
   "metadata": {},
   "outputs": [],
   "source": [
    "instance = pd.ExcelFile(f'../instances/inst4.xlsx')\n",
    "\n",
    "ship_names = instance.parse(f'Problem_4', header=1, usecols='G').iloc[:,0].to_list()\n",
    "categories = instance.parse(f'Problem_4', header=1, usecols='H').iloc[:,0].to_list()\n",
    "arrivals = instance.parse(f'Problem_4', header=1, usecols='K').iloc[:,0].to_list()\n",
    "\n",
    "# Sort ships by arrival time ascending and alphabetically, if they have the same arrival time.\n",
    "df_ships = pd.DataFrame({'name':ship_names,'category':categories,'arrival':arrivals}).sort_values(['arrival','name'], ascending=True).reset_index(drop=True)\n",
    "\n",
    "# Override old lists, now in correct order\n",
    "ship_names = df_ships['name'].tolist()\n",
    "ships = list(range(len(ship_names)))\n",
    "# As we start indexing by 0, decrease categories and arrivals by 1\n",
    "categories = [x-1 for x in df_ships['category']]\n",
    "arrivals = [x-1 for x in df_ships['arrival']]\n",
    "\n",
    "# Read unloading times\n",
    "unloading_times = instance.parse(f'Problem_4', header = 1, usecols = 'B:E').dropna()\n",
    "unloading_times = unloading_times.values.tolist()\n",
    "\n",
    "# Define stations\n",
    "stations = list(range(4))"
   ]
  },
  {
   "cell_type": "markdown",
   "metadata": {},
   "source": [
    "### 2. Define decomposition parameters"
   ]
  },
  {
   "cell_type": "code",
   "execution_count": 15,
   "metadata": {},
   "outputs": [],
   "source": [
    "# Auxiliary parameters for rolling planning horizon\n",
    "num_ships = len(ships)\n",
    "window = 7\n",
    "overlap = 4"
   ]
  },
  {
   "cell_type": "markdown",
   "metadata": {},
   "source": [
    "### 3. Run decomposed problem"
   ]
  },
  {
   "cell_type": "code",
   "execution_count": 18,
   "metadata": {},
   "outputs": [],
   "source": [
    "#-----------------------------------------------\n",
    "# Create model instance\n",
    "#-----------------------------------------------\n",
    "\n",
    "model = Model(name='jetty_scheduling_decomposition')\n",
    "\n",
    "#-----------------------------------------------\n",
    "# Define decision variable\n",
    "#-----------------------------------------------\n",
    "\n",
    "X = model.integer_var_dict(product(ships,stations), name='starting') # first period that ship s is located on station p\n",
    "W = model.integer_var_dict(product(ships,stations), name='waiting') # periods that ship s waits at station p before moving to next station\n",
    "A = model.binary_var_dict(product(ships,stations), name='assignment') # 1 if ship s is assigned to station p for unloading, 0 otherwise\n",
    "E = model.binary_var_dict(product(ships,ships), name='order') # 1 if ship s enters the jetty before ship s_bar, 0 otherwise\n",
    "F = model.integer_var_dict(ships, name='finish') # finishing time of ship s\n",
    "\n",
    "#-----------------------------------------------\n",
    "# Define constraints only for the ship window \n",
    "#-----------------------------------------------\n",
    "\n",
    "bigM = 9999\n",
    "\n",
    "# (1) each ship has to be assigned to exactly one station for unloading\n",
    "model.add_constraints(model.sum(A[s,p] for p in stations) == 1 for s in ships)\n",
    "\n",
    "# (2) no movement to first station before arrival\n",
    "model.add_constraints(X[s,0] >= arrivals[s] for s in ships)\n",
    "\n",
    "# (3) stay at assigned station for unloading, else for at least one period\n",
    "model.add_constraints(X[s,p+1] == X[s,p] + A[s,p] * unloading_times[categories[s]][p] + (1-A[s,p]) + W[s,p] for s in ships for p in stations if p<3)\n",
    "\n",
    "# (4) move to next station only if previous ship has already left\n",
    "model.add_constraints(X[s_bar,p] >= X[s,p] + A[s,p] * unloading_times[categories[s]][p] + (1-A[s,p]) + W[s,p] - E[s_bar,s] * bigM for s in ships for s_bar in ships for p in stations if s!=s_bar)\n",
    "\n",
    "# (5) ship is either before or after every other ship\n",
    "model.add_constraints(1 == E[s,s_bar] + E[s_bar,s] for s in ships for s_bar in ships if s!=s_bar)\n",
    "\n",
    "# (6) finishing time of each ship\n",
    "model.add_constraints(F[s] == X[s,3] + A[s,3] * unloading_times[categories[s]][3] + (1-A[s,3]) for s in ships)\n",
    "\n",
    "#-----------------------------------------------\n",
    "# Decomposition\n",
    "#-----------------------------------------------\n",
    "\n",
    "for first in range(0,num_ships,overlap):\n",
    "\n",
    "    # find last ship that is included in this window\n",
    "    last = first + window - 1\n",
    "    if last > num_ships - 1:\n",
    "        last = num_ships - 1\n",
    "\n",
    "    ships_window = ships[first:last+1]\n",
    "\n",
    "    #-----------------------------------------------\n",
    "    # Define objective function \n",
    "    #-----------------------------------------------\n",
    "    \n",
    "    # Minimize total sum of periods all ships are in waiting position or at the jetty\n",
    "    model.minimize(model.sum(F[s] - arrivals[s] for s in ships[:last+1]))\n",
    "\n",
    "    #-----------------------------------------------\n",
    "    # Solve the model\n",
    "    #-----------------------------------------------\n",
    "\n",
    "    model.solve()\n",
    "    \n",
    "    #-----------------------------------------------\n",
    "    # Fix the decision variables except for overlap\n",
    "    #-----------------------------------------------\n",
    "\n",
    "    model.add_constraints(X[s,p] == X[s,p].solution_value for s in ships_window[:overlap] for p in stations)\n",
    "    model.add_constraints(W[s,p] == W[s,p].solution_value for s in ships_window[:overlap] for p in stations)\n",
    "    model.add_constraints(A[s,p] == A[s,p].solution_value for s in ships_window[:overlap] for p in stations)"
   ]
  },
  {
   "cell_type": "markdown",
   "metadata": {},
   "source": [
    "#### 4. Export results to Excel file"
   ]
  },
  {
   "cell_type": "code",
   "execution_count": 19,
   "metadata": {},
   "outputs": [],
   "source": [
    "def export_results():\n",
    "\n",
    "    return "
   ]
  },
  {
   "cell_type": "markdown",
   "metadata": {},
   "source": [
    "### 2. Create Gantt chart"
   ]
  },
  {
   "cell_type": "markdown",
   "metadata": {},
   "source": [
    "#### Excursion\n",
    "\n",
    "Extend the original plotly color list to be able to display 20 ships in instance 4."
   ]
  },
  {
   "cell_type": "code",
   "execution_count": 20,
   "metadata": {},
   "outputs": [],
   "source": [
    "def generate_similar_colors(hex_colors, saturation_factor=.5, lightness_factor=.8):\n",
    "    new_colors = []\n",
    "    \n",
    "    for hex_color in hex_colors:\n",
    "        # Convert hex to RGB\n",
    "        rgb_color = tuple(int(hex_color[i:i+2], 16) / 255.0 for i in (1, 3, 5))\n",
    "        \n",
    "        # Convert RGB to HLS\n",
    "        h, l, s = colorsys.rgb_to_hls(*rgb_color)\n",
    "        \n",
    "        # Adjust saturation and lightness\n",
    "        s *= saturation_factor\n",
    "        l *= lightness_factor\n",
    "        \n",
    "        # Convert back to RGB\n",
    "        new_rgb_color = tuple(round(c * 255) for c in colorsys.hls_to_rgb(h, l, s))\n",
    "        \n",
    "        # Convert RGB to hex\n",
    "        new_hex_color = \"#{:02x}{:02x}{:02x}\".format(*new_rgb_color)\n",
    "        \n",
    "        new_colors.append(new_hex_color)\n",
    "    \n",
    "    return new_colors\n",
    "\n",
    "# Original plotly list of colors\n",
    "original_colors = [\n",
    "    '#1f77b4',  # muted blue\n",
    "    '#ff7f0e',  # safety orange\n",
    "    '#2ca02c',  # cooked asparagus green\n",
    "    '#d62728',  # brick red\n",
    "    '#9467bd',  # muted purple\n",
    "    '#8c564b',  # chestnut brown\n",
    "    '#e377c2',  # raspberry yogurt pink\n",
    "    '#7f7f7f',  # middle gray\n",
    "    '#bcbd22',  # curry yellow-green\n",
    "    '#17becf'   # blue-teal\n",
    "]\n",
    "\n",
    "extended_colors = original_colors + generate_similar_colors(original_colors)"
   ]
  },
  {
   "cell_type": "code",
   "execution_count": 21,
   "metadata": {},
   "outputs": [],
   "source": [
    "def create_gantt_chart(model, ships, ship_names, stations, X, W, A, F):\n",
    "\n",
    "    # Dataframe to store information for gantt chart\n",
    "    df_gantt = pd.DataFrame(columns=['Task','Start','Finish','Resource'])\n",
    "\n",
    "    # For all ships, add periods at each station to dataframe\n",
    "    for s in ships:\n",
    "        for p in stations:\n",
    "            df_gantt = pd.concat([df_gantt, pd.DataFrame({'Task': f'Station {p+1}', 'Start': [X[s,p].solution_value], 'Finish': [X[s,p].solution_value + A[s,p].solution_value * unloading_times[categories[s]][p] + (1-A[s,p].solution_value) + W[s,p].solution_value], 'Resource': ship_names[s]})], ignore_index=True)\n",
    "\n",
    "    # Get finishing time\n",
    "    finish = int(max([F[s].solution_value for s in ships]))\n",
    "\n",
    "    # Create gantt chart\n",
    "    fig = ff.create_gantt(df_gantt, index_col='Resource', show_colorbar=True, bar_width=0.4, group_tasks=True, title=f'Gantt Chart for Instance 4; Finished after {finish} periods; Objective value: {int(model.objective_value)}', colors=extended_colors)\n",
    "    fig.update_layout(xaxis_type='linear', autosize=False, width=1000)\n",
    "\n",
    "    # Return gantt chart\n",
    "    return fig"
   ]
  },
  {
   "cell_type": "code",
   "execution_count": 23,
   "metadata": {},
   "outputs": [
    {
     "name": "stderr",
     "output_type": "stream",
     "text": [
      "C:\\Users\\mogra\\AppData\\Local\\Temp\\ipykernel_20472\\4046311883.py:9: FutureWarning:\n",
      "\n",
      "The behavior of DataFrame concatenation with empty or all-NA entries is deprecated. In a future version, this will no longer exclude empty or all-NA columns when determining the result dtypes. To retain the old behavior, exclude the relevant entries before the concat operation.\n",
      "\n"
     ]
    },
    {
     "data": {
      "application/vnd.plotly.v1+json": {
       "config": {
        "plotlyServerURL": "https://plot.ly"
       },
       "data": [
        {
         "fill": "toself",
         "fillcolor": "rgb(102, 102, 102)",
         "hoverinfo": "name",
         "legendgroup": "rgb(102, 102, 102)",
         "mode": "none",
         "name": "Panega",
         "showlegend": true,
         "type": "scatter",
         "x": [
          30,
          33,
          33,
          30,
          30,
          33,
          34,
          34,
          33,
          33,
          34,
          35,
          35,
          34,
          34,
          35,
          36,
          36,
          35
         ],
         "y": [
          2.6,
          2.6,
          3.4,
          3.4,
          null,
          1.6,
          1.6,
          2.4,
          2.4,
          null,
          0.6,
          0.6,
          1.4,
          1.4,
          null,
          -0.4,
          -0.4,
          0.4,
          0.4
         ]
        },
        {
         "fill": "toself",
         "fillcolor": "rgb(118, 94, 140)",
         "hoverinfo": "name",
         "legendgroup": "rgb(118, 94, 140)",
         "mode": "none",
         "name": "Nina",
         "showlegend": true,
         "type": "scatter",
         "x": [
          10,
          13,
          13,
          10,
          10,
          13,
          14,
          14,
          13,
          13,
          14,
          15,
          15,
          14,
          14,
          15,
          16,
          16,
          15
         ],
         "y": [
          2.6,
          2.6,
          3.4,
          3.4,
          null,
          1.6,
          1.6,
          2.4,
          2.4,
          null,
          0.6,
          0.6,
          1.4,
          1.4,
          null,
          -0.4,
          -0.4,
          0.4,
          0.4
         ]
        },
        {
         "fill": "toself",
         "fillcolor": "rgb(120, 120, 58)",
         "hoverinfo": "name",
         "legendgroup": "rgb(120, 120, 58)",
         "mode": "none",
         "name": "Tornado",
         "showlegend": true,
         "type": "scatter",
         "x": [
          3,
          4,
          4,
          3,
          3,
          4,
          5,
          5,
          4,
          4,
          5,
          6,
          6,
          5,
          5,
          6,
          7,
          7,
          6
         ],
         "y": [
          2.6,
          2.6,
          3.4,
          3.4,
          null,
          1.6,
          1.6,
          2.4,
          2.4,
          null,
          0.6,
          0.6,
          1.4,
          1.4,
          null,
          -0.4,
          -0.4,
          0.4,
          0.4
         ]
        },
        {
         "fill": "toself",
         "fillcolor": "rgb(127, 127, 127)",
         "hoverinfo": "name",
         "legendgroup": "rgb(127, 127, 127)",
         "mode": "none",
         "name": "Hansa",
         "showlegend": true,
         "type": "scatter",
         "x": [
          37,
          38,
          38,
          37,
          37,
          38,
          44,
          44,
          38,
          38,
          44,
          45,
          45,
          44,
          44,
          45,
          46,
          46,
          45
         ],
         "y": [
          2.6,
          2.6,
          3.4,
          3.4,
          null,
          1.6,
          1.6,
          2.4,
          2.4,
          null,
          0.6,
          0.6,
          1.4,
          1.4,
          null,
          -0.4,
          -0.4,
          0.4,
          0.4
         ]
        },
        {
         "fill": "toself",
         "fillcolor": "rgb(136, 66, 67)",
         "hoverinfo": "name",
         "legendgroup": "rgb(136, 66, 67)",
         "mode": "none",
         "name": "Neptun",
         "showlegend": true,
         "type": "scatter",
         "x": [
          26,
          27,
          27,
          26,
          26,
          27,
          33,
          33,
          27,
          27,
          33,
          34,
          34,
          33,
          33,
          34,
          35,
          35,
          34
         ],
         "y": [
          2.6,
          2.6,
          3.4,
          3.4,
          null,
          1.6,
          1.6,
          2.4,
          2.4,
          null,
          0.6,
          0.6,
          1.4,
          1.4,
          null,
          -0.4,
          -0.4,
          0.4,
          0.4
         ]
        },
        {
         "fill": "toself",
         "fillcolor": "rgb(140, 86, 75)",
         "hoverinfo": "name",
         "legendgroup": "rgb(140, 86, 75)",
         "mode": "none",
         "name": "Exxon",
         "showlegend": true,
         "type": "scatter",
         "x": [
          1,
          3,
          3,
          1,
          1,
          3,
          4,
          4,
          3,
          3,
          4,
          5,
          5,
          4,
          4,
          5,
          6,
          6,
          5
         ],
         "y": [
          2.6,
          2.6,
          3.4,
          3.4,
          null,
          1.6,
          1.6,
          2.4,
          2.4,
          null,
          0.6,
          0.6,
          1.4,
          1.4,
          null,
          -0.4,
          -0.4,
          0.4,
          0.4
         ]
        },
        {
         "fill": "toself",
         "fillcolor": "rgb(148, 103, 189)",
         "hoverinfo": "name",
         "legendgroup": "rgb(148, 103, 189)",
         "mode": "none",
         "name": "Duandra",
         "showlegend": true,
         "type": "scatter",
         "x": [
          13,
          14,
          14,
          13,
          13,
          14,
          15,
          15,
          14,
          14,
          15,
          16,
          16,
          15,
          15,
          16,
          18,
          18,
          16
         ],
         "y": [
          2.6,
          2.6,
          3.4,
          3.4,
          null,
          1.6,
          1.6,
          2.4,
          2.4,
          null,
          0.6,
          0.6,
          1.4,
          1.4,
          null,
          -0.4,
          -0.4,
          0.4,
          0.4
         ]
        },
        {
         "fill": "toself",
         "fillcolor": "rgb(161, 104, 54)",
         "hoverinfo": "name",
         "legendgroup": "rgb(161, 104, 54)",
         "mode": "none",
         "name": "Moers",
         "showlegend": true,
         "type": "scatter",
         "x": [
          4,
          5,
          5,
          4,
          4,
          5,
          6,
          6,
          5,
          5,
          6,
          7,
          7,
          6,
          6,
          7,
          9,
          9,
          7
         ],
         "y": [
          2.6,
          2.6,
          3.4,
          3.4,
          null,
          1.6,
          1.6,
          2.4,
          2.4,
          null,
          0.6,
          0.6,
          1.4,
          1.4,
          null,
          -0.4,
          -0.4,
          0.4,
          0.4
         ]
        },
        {
         "fill": "toself",
         "fillcolor": "rgb(177, 100, 153)",
         "hoverinfo": "name",
         "legendgroup": "rgb(177, 100, 153)",
         "mode": "none",
         "name": "Opladen",
         "showlegend": true,
         "type": "scatter",
         "x": [
          5,
          7,
          7,
          5,
          5,
          7,
          8,
          8,
          7,
          7,
          8,
          9,
          9,
          8,
          8,
          9,
          10,
          10,
          9
         ],
         "y": [
          2.6,
          2.6,
          3.4,
          3.4,
          null,
          1.6,
          1.6,
          2.4,
          2.4,
          null,
          0.6,
          0.6,
          1.4,
          1.4,
          null,
          -0.4,
          -0.4,
          0.4,
          0.4
         ]
        },
        {
         "fill": "toself",
         "fillcolor": "rgb(188, 189, 34)",
         "hoverinfo": "name",
         "legendgroup": "rgb(188, 189, 34)",
         "mode": "none",
         "name": "Herta",
         "showlegend": true,
         "type": "scatter",
         "x": [
          7,
          9,
          9,
          7,
          7,
          9,
          10,
          10,
          9,
          9,
          10,
          11,
          11,
          10,
          10,
          11,
          12,
          12,
          11
         ],
         "y": [
          2.6,
          2.6,
          3.4,
          3.4,
          null,
          1.6,
          1.6,
          2.4,
          2.4,
          null,
          0.6,
          0.6,
          1.4,
          1.4,
          null,
          -0.4,
          -0.4,
          0.4,
          0.4
         ]
        },
        {
         "fill": "toself",
         "fillcolor": "rgb(214, 39, 40)",
         "hoverinfo": "name",
         "legendgroup": "rgb(214, 39, 40)",
         "mode": "none",
         "name": "Colt",
         "showlegend": true,
         "type": "scatter",
         "x": [
          9,
          10,
          10,
          9,
          9,
          10,
          11,
          11,
          10,
          10,
          11,
          12,
          12,
          11,
          11,
          12,
          14,
          14,
          12
         ],
         "y": [
          2.6,
          2.6,
          3.4,
          3.4,
          null,
          1.6,
          1.6,
          2.4,
          2.4,
          null,
          0.6,
          0.6,
          1.4,
          1.4,
          null,
          -0.4,
          -0.4,
          0.4,
          0.4
         ]
        },
        {
         "fill": "toself",
         "fillcolor": "rgb(227, 119, 194)",
         "hoverinfo": "name",
         "legendgroup": "rgb(227, 119, 194)",
         "mode": "none",
         "name": "Fony",
         "showlegend": true,
         "type": "scatter",
         "x": [
          18,
          22,
          22,
          18,
          18,
          22,
          23,
          23,
          22,
          22,
          23,
          24,
          24,
          23,
          23,
          24,
          25,
          25,
          24
         ],
         "y": [
          2.6,
          2.6,
          3.4,
          3.4,
          null,
          1.6,
          1.6,
          2.4,
          2.4,
          null,
          0.6,
          0.6,
          1.4,
          1.4,
          null,
          -0.4,
          -0.4,
          0.4,
          0.4
         ]
        },
        {
         "fill": "toself",
         "fillcolor": "rgb(23, 190, 207)",
         "hoverinfo": "name",
         "legendgroup": "rgb(23, 190, 207)",
         "mode": "none",
         "name": "Kabul",
         "showlegend": true,
         "type": "scatter",
         "x": [
          0,
          1,
          1,
          0,
          0,
          1,
          2,
          2,
          1,
          1,
          2,
          3,
          3,
          2,
          2,
          3,
          4,
          4,
          3
         ],
         "y": [
          2.6,
          2.6,
          3.4,
          3.4,
          null,
          1.6,
          1.6,
          2.4,
          2.4,
          null,
          0.6,
          0.6,
          1.4,
          1.4,
          null,
          -0.4,
          -0.4,
          0.4,
          0.4
         ]
        },
        {
         "fill": "toself",
         "fillcolor": "rgb(255, 127, 14)",
         "hoverinfo": "name",
         "legendgroup": "rgb(255, 127, 14)",
         "mode": "none",
         "name": "Carina",
         "showlegend": true,
         "type": "scatter",
         "x": [
          22,
          23,
          23,
          22,
          22,
          23,
          24,
          24,
          23,
          23,
          24,
          25,
          25,
          24,
          24,
          25,
          26,
          26,
          25
         ],
         "y": [
          2.6,
          2.6,
          3.4,
          3.4,
          null,
          1.6,
          1.6,
          2.4,
          2.4,
          null,
          0.6,
          0.6,
          1.4,
          1.4,
          null,
          -0.4,
          -0.4,
          0.4,
          0.4
         ]
        },
        {
         "fill": "toself",
         "fillcolor": "rgb(31, 119, 180)",
         "hoverinfo": "name",
         "legendgroup": "rgb(31, 119, 180)",
         "mode": "none",
         "name": "Atlantic",
         "showlegend": true,
         "type": "scatter",
         "x": [
          14,
          15,
          15,
          14,
          14,
          15,
          16,
          16,
          15,
          15,
          16,
          18,
          18,
          16,
          16,
          18,
          20,
          20,
          18
         ],
         "y": [
          2.6,
          2.6,
          3.4,
          3.4,
          null,
          1.6,
          1.6,
          2.4,
          2.4,
          null,
          0.6,
          0.6,
          1.4,
          1.4,
          null,
          -0.4,
          -0.4,
          0.4,
          0.4
         ]
        },
        {
         "fill": "toself",
         "fillcolor": "rgb(44, 160, 44)",
         "hoverinfo": "name",
         "legendgroup": "rgb(44, 160, 44)",
         "mode": "none",
         "name": "Clausthal",
         "showlegend": true,
         "type": "scatter",
         "x": [
          15,
          16,
          16,
          15,
          15,
          16,
          22,
          22,
          16,
          16,
          22,
          23,
          23,
          22,
          22,
          23,
          24,
          24,
          23
         ],
         "y": [
          2.6,
          2.6,
          3.4,
          3.4,
          null,
          1.6,
          1.6,
          2.4,
          2.4,
          null,
          0.6,
          0.6,
          1.4,
          1.4,
          null,
          -0.4,
          -0.4,
          0.4,
          0.4
         ]
        },
        {
         "fill": "toself",
         "fillcolor": "rgb(55, 122, 129)",
         "hoverinfo": "name",
         "legendgroup": "rgb(55, 122, 129)",
         "mode": "none",
         "name": "Waldhof",
         "showlegend": true,
         "type": "scatter",
         "x": [
          23,
          24,
          24,
          23,
          23,
          24,
          25,
          25,
          24,
          24,
          25,
          26,
          26,
          25,
          25,
          26,
          27,
          27,
          26
         ],
         "y": [
          2.6,
          2.6,
          3.4,
          3.4,
          null,
          1.6,
          1.6,
          2.4,
          2.4,
          null,
          0.6,
          0.6,
          1.4,
          1.4,
          null,
          -0.4,
          -0.4,
          0.4,
          0.4
         ]
        },
        {
         "fill": "toself",
         "fillcolor": "rgb(55, 90, 114)",
         "hoverinfo": "name",
         "legendgroup": "rgb(55, 90, 114)",
         "mode": "none",
         "name": "Megara",
         "showlegend": true,
         "type": "scatter",
         "x": [
          33,
          35,
          35,
          33,
          33,
          35,
          36,
          36,
          35,
          35,
          36,
          37,
          37,
          36,
          36,
          37,
          38,
          38,
          37
         ],
         "y": [
          2.6,
          2.6,
          3.4,
          3.4,
          null,
          1.6,
          1.6,
          2.4,
          2.4,
          null,
          0.6,
          0.6,
          1.4,
          1.4,
          null,
          -0.4,
          -0.4,
          0.4,
          0.4
         ]
        },
        {
         "fill": "toself",
         "fillcolor": "rgb(58, 105, 58)",
         "hoverinfo": "name",
         "legendgroup": "rgb(58, 105, 58)",
         "mode": "none",
         "name": "Natalie",
         "showlegend": true,
         "type": "scatter",
         "x": [
          24,
          25,
          25,
          24,
          24,
          25,
          26,
          26,
          25,
          25,
          26,
          33,
          33,
          26,
          26,
          33,
          34,
          34,
          33
         ],
         "y": [
          2.6,
          2.6,
          3.4,
          3.4,
          null,
          1.6,
          1.6,
          2.4,
          2.4,
          null,
          0.6,
          0.6,
          1.4,
          1.4,
          null,
          -0.4,
          -0.4,
          0.4,
          0.4
         ]
        },
        {
         "fill": "toself",
         "fillcolor": "rgb(99, 77, 73)",
         "hoverinfo": "name",
         "legendgroup": "rgb(99, 77, 73)",
         "mode": "none",
         "name": "Onassis",
         "showlegend": true,
         "type": "scatter",
         "x": [
          35,
          37,
          37,
          35,
          35,
          37,
          38,
          38,
          37,
          37,
          38,
          39,
          39,
          38,
          38,
          39,
          40,
          40,
          39
         ],
         "y": [
          2.6,
          2.6,
          3.4,
          3.4,
          null,
          1.6,
          1.6,
          2.4,
          2.4,
          null,
          0.6,
          0.6,
          1.4,
          1.4,
          null,
          -0.4,
          -0.4,
          0.4,
          0.4
         ]
        },
        {
         "legendgroup": "rgb(102, 102, 102)",
         "marker": {
          "color": "rgb(102, 102, 102)",
          "opacity": 0,
          "size": 1
         },
         "mode": "markers",
         "name": "",
         "showlegend": false,
         "text": [
          null,
          null,
          null,
          null,
          null,
          null,
          null,
          null
         ],
         "type": "scatter",
         "x": [
          30,
          33,
          33,
          34,
          34,
          35,
          35,
          36
         ],
         "y": [
          3,
          3,
          2,
          2,
          1,
          1,
          0,
          0
         ]
        },
        {
         "legendgroup": "rgb(118, 94, 140)",
         "marker": {
          "color": "rgb(118, 94, 140)",
          "opacity": 0,
          "size": 1
         },
         "mode": "markers",
         "name": "",
         "showlegend": false,
         "text": [
          null,
          null,
          null,
          null,
          null,
          null,
          null,
          null
         ],
         "type": "scatter",
         "x": [
          10,
          13,
          13,
          14,
          14,
          15,
          15,
          16
         ],
         "y": [
          3,
          3,
          2,
          2,
          1,
          1,
          0,
          0
         ]
        },
        {
         "legendgroup": "rgb(120, 120, 58)",
         "marker": {
          "color": "rgb(120, 120, 58)",
          "opacity": 0,
          "size": 1
         },
         "mode": "markers",
         "name": "",
         "showlegend": false,
         "text": [
          null,
          null,
          null,
          null,
          null,
          null,
          null,
          null
         ],
         "type": "scatter",
         "x": [
          3,
          4,
          4,
          5,
          5,
          6,
          6,
          7
         ],
         "y": [
          3,
          3,
          2,
          2,
          1,
          1,
          0,
          0
         ]
        },
        {
         "legendgroup": "rgb(127, 127, 127)",
         "marker": {
          "color": "rgb(127, 127, 127)",
          "opacity": 0,
          "size": 1
         },
         "mode": "markers",
         "name": "",
         "showlegend": false,
         "text": [
          null,
          null,
          null,
          null,
          null,
          null,
          null,
          null
         ],
         "type": "scatter",
         "x": [
          37,
          38,
          38,
          44,
          44,
          45,
          45,
          46
         ],
         "y": [
          3,
          3,
          2,
          2,
          1,
          1,
          0,
          0
         ]
        },
        {
         "legendgroup": "rgb(136, 66, 67)",
         "marker": {
          "color": "rgb(136, 66, 67)",
          "opacity": 0,
          "size": 1
         },
         "mode": "markers",
         "name": "",
         "showlegend": false,
         "text": [
          null,
          null,
          null,
          null,
          null,
          null,
          null,
          null
         ],
         "type": "scatter",
         "x": [
          26,
          27,
          27,
          33,
          33,
          34,
          34,
          35
         ],
         "y": [
          3,
          3,
          2,
          2,
          1,
          1,
          0,
          0
         ]
        },
        {
         "legendgroup": "rgb(140, 86, 75)",
         "marker": {
          "color": "rgb(140, 86, 75)",
          "opacity": 0,
          "size": 1
         },
         "mode": "markers",
         "name": "",
         "showlegend": false,
         "text": [
          null,
          null,
          null,
          null,
          null,
          null,
          null,
          null
         ],
         "type": "scatter",
         "x": [
          1,
          3,
          3,
          4,
          4,
          5,
          5,
          6
         ],
         "y": [
          3,
          3,
          2,
          2,
          1,
          1,
          0,
          0
         ]
        },
        {
         "legendgroup": "rgb(148, 103, 189)",
         "marker": {
          "color": "rgb(148, 103, 189)",
          "opacity": 0,
          "size": 1
         },
         "mode": "markers",
         "name": "",
         "showlegend": false,
         "text": [
          null,
          null,
          null,
          null,
          null,
          null,
          null,
          null
         ],
         "type": "scatter",
         "x": [
          13,
          14,
          14,
          15,
          15,
          16,
          16,
          18
         ],
         "y": [
          3,
          3,
          2,
          2,
          1,
          1,
          0,
          0
         ]
        },
        {
         "legendgroup": "rgb(161, 104, 54)",
         "marker": {
          "color": "rgb(161, 104, 54)",
          "opacity": 0,
          "size": 1
         },
         "mode": "markers",
         "name": "",
         "showlegend": false,
         "text": [
          null,
          null,
          null,
          null,
          null,
          null,
          null,
          null
         ],
         "type": "scatter",
         "x": [
          4,
          5,
          5,
          6,
          6,
          7,
          7,
          9
         ],
         "y": [
          3,
          3,
          2,
          2,
          1,
          1,
          0,
          0
         ]
        },
        {
         "legendgroup": "rgb(177, 100, 153)",
         "marker": {
          "color": "rgb(177, 100, 153)",
          "opacity": 0,
          "size": 1
         },
         "mode": "markers",
         "name": "",
         "showlegend": false,
         "text": [
          null,
          null,
          null,
          null,
          null,
          null,
          null,
          null
         ],
         "type": "scatter",
         "x": [
          5,
          7,
          7,
          8,
          8,
          9,
          9,
          10
         ],
         "y": [
          3,
          3,
          2,
          2,
          1,
          1,
          0,
          0
         ]
        },
        {
         "legendgroup": "rgb(188, 189, 34)",
         "marker": {
          "color": "rgb(188, 189, 34)",
          "opacity": 0,
          "size": 1
         },
         "mode": "markers",
         "name": "",
         "showlegend": false,
         "text": [
          null,
          null,
          null,
          null,
          null,
          null,
          null,
          null
         ],
         "type": "scatter",
         "x": [
          7,
          9,
          9,
          10,
          10,
          11,
          11,
          12
         ],
         "y": [
          3,
          3,
          2,
          2,
          1,
          1,
          0,
          0
         ]
        },
        {
         "legendgroup": "rgb(214, 39, 40)",
         "marker": {
          "color": "rgb(214, 39, 40)",
          "opacity": 0,
          "size": 1
         },
         "mode": "markers",
         "name": "",
         "showlegend": false,
         "text": [
          null,
          null,
          null,
          null,
          null,
          null,
          null,
          null
         ],
         "type": "scatter",
         "x": [
          9,
          10,
          10,
          11,
          11,
          12,
          12,
          14
         ],
         "y": [
          3,
          3,
          2,
          2,
          1,
          1,
          0,
          0
         ]
        },
        {
         "legendgroup": "rgb(227, 119, 194)",
         "marker": {
          "color": "rgb(227, 119, 194)",
          "opacity": 0,
          "size": 1
         },
         "mode": "markers",
         "name": "",
         "showlegend": false,
         "text": [
          null,
          null,
          null,
          null,
          null,
          null,
          null,
          null
         ],
         "type": "scatter",
         "x": [
          18,
          22,
          22,
          23,
          23,
          24,
          24,
          25
         ],
         "y": [
          3,
          3,
          2,
          2,
          1,
          1,
          0,
          0
         ]
        },
        {
         "legendgroup": "rgb(23, 190, 207)",
         "marker": {
          "color": "rgb(23, 190, 207)",
          "opacity": 0,
          "size": 1
         },
         "mode": "markers",
         "name": "",
         "showlegend": false,
         "text": [
          null,
          null,
          null,
          null,
          null,
          null,
          null,
          null
         ],
         "type": "scatter",
         "x": [
          0,
          1,
          1,
          2,
          2,
          3,
          3,
          4
         ],
         "y": [
          3,
          3,
          2,
          2,
          1,
          1,
          0,
          0
         ]
        },
        {
         "legendgroup": "rgb(255, 127, 14)",
         "marker": {
          "color": "rgb(255, 127, 14)",
          "opacity": 0,
          "size": 1
         },
         "mode": "markers",
         "name": "",
         "showlegend": false,
         "text": [
          null,
          null,
          null,
          null,
          null,
          null,
          null,
          null
         ],
         "type": "scatter",
         "x": [
          22,
          23,
          23,
          24,
          24,
          25,
          25,
          26
         ],
         "y": [
          3,
          3,
          2,
          2,
          1,
          1,
          0,
          0
         ]
        },
        {
         "legendgroup": "rgb(31, 119, 180)",
         "marker": {
          "color": "rgb(31, 119, 180)",
          "opacity": 0,
          "size": 1
         },
         "mode": "markers",
         "name": "",
         "showlegend": false,
         "text": [
          null,
          null,
          null,
          null,
          null,
          null,
          null,
          null
         ],
         "type": "scatter",
         "x": [
          14,
          15,
          15,
          16,
          16,
          18,
          18,
          20
         ],
         "y": [
          3,
          3,
          2,
          2,
          1,
          1,
          0,
          0
         ]
        },
        {
         "legendgroup": "rgb(44, 160, 44)",
         "marker": {
          "color": "rgb(44, 160, 44)",
          "opacity": 0,
          "size": 1
         },
         "mode": "markers",
         "name": "",
         "showlegend": false,
         "text": [
          null,
          null,
          null,
          null,
          null,
          null,
          null,
          null
         ],
         "type": "scatter",
         "x": [
          15,
          16,
          16,
          22,
          22,
          23,
          23,
          24
         ],
         "y": [
          3,
          3,
          2,
          2,
          1,
          1,
          0,
          0
         ]
        },
        {
         "legendgroup": "rgb(55, 122, 129)",
         "marker": {
          "color": "rgb(55, 122, 129)",
          "opacity": 0,
          "size": 1
         },
         "mode": "markers",
         "name": "",
         "showlegend": false,
         "text": [
          null,
          null,
          null,
          null,
          null,
          null,
          null,
          null
         ],
         "type": "scatter",
         "x": [
          23,
          24,
          24,
          25,
          25,
          26,
          26,
          27
         ],
         "y": [
          3,
          3,
          2,
          2,
          1,
          1,
          0,
          0
         ]
        },
        {
         "legendgroup": "rgb(55, 90, 114)",
         "marker": {
          "color": "rgb(55, 90, 114)",
          "opacity": 0,
          "size": 1
         },
         "mode": "markers",
         "name": "",
         "showlegend": false,
         "text": [
          null,
          null,
          null,
          null,
          null,
          null,
          null,
          null
         ],
         "type": "scatter",
         "x": [
          33,
          35,
          35,
          36,
          36,
          37,
          37,
          38
         ],
         "y": [
          3,
          3,
          2,
          2,
          1,
          1,
          0,
          0
         ]
        },
        {
         "legendgroup": "rgb(58, 105, 58)",
         "marker": {
          "color": "rgb(58, 105, 58)",
          "opacity": 0,
          "size": 1
         },
         "mode": "markers",
         "name": "",
         "showlegend": false,
         "text": [
          null,
          null,
          null,
          null,
          null,
          null,
          null,
          null
         ],
         "type": "scatter",
         "x": [
          24,
          25,
          25,
          26,
          26,
          33,
          33,
          34
         ],
         "y": [
          3,
          3,
          2,
          2,
          1,
          1,
          0,
          0
         ]
        },
        {
         "legendgroup": "rgb(99, 77, 73)",
         "marker": {
          "color": "rgb(99, 77, 73)",
          "opacity": 0,
          "size": 1
         },
         "mode": "markers",
         "name": "",
         "showlegend": false,
         "text": [
          null,
          null,
          null,
          null,
          null,
          null,
          null,
          null
         ],
         "type": "scatter",
         "x": [
          35,
          37,
          37,
          38,
          38,
          39,
          39,
          40
         ],
         "y": [
          3,
          3,
          2,
          2,
          1,
          1,
          0,
          0
         ]
        }
       ],
       "layout": {
        "autosize": false,
        "height": 600,
        "hovermode": "closest",
        "showlegend": true,
        "template": {
         "data": {
          "bar": [
           {
            "error_x": {
             "color": "#2a3f5f"
            },
            "error_y": {
             "color": "#2a3f5f"
            },
            "marker": {
             "line": {
              "color": "#E5ECF6",
              "width": 0.5
             },
             "pattern": {
              "fillmode": "overlay",
              "size": 10,
              "solidity": 0.2
             }
            },
            "type": "bar"
           }
          ],
          "barpolar": [
           {
            "marker": {
             "line": {
              "color": "#E5ECF6",
              "width": 0.5
             },
             "pattern": {
              "fillmode": "overlay",
              "size": 10,
              "solidity": 0.2
             }
            },
            "type": "barpolar"
           }
          ],
          "carpet": [
           {
            "aaxis": {
             "endlinecolor": "#2a3f5f",
             "gridcolor": "white",
             "linecolor": "white",
             "minorgridcolor": "white",
             "startlinecolor": "#2a3f5f"
            },
            "baxis": {
             "endlinecolor": "#2a3f5f",
             "gridcolor": "white",
             "linecolor": "white",
             "minorgridcolor": "white",
             "startlinecolor": "#2a3f5f"
            },
            "type": "carpet"
           }
          ],
          "choropleth": [
           {
            "colorbar": {
             "outlinewidth": 0,
             "ticks": ""
            },
            "type": "choropleth"
           }
          ],
          "contour": [
           {
            "colorbar": {
             "outlinewidth": 0,
             "ticks": ""
            },
            "colorscale": [
             [
              0,
              "#0d0887"
             ],
             [
              0.1111111111111111,
              "#46039f"
             ],
             [
              0.2222222222222222,
              "#7201a8"
             ],
             [
              0.3333333333333333,
              "#9c179e"
             ],
             [
              0.4444444444444444,
              "#bd3786"
             ],
             [
              0.5555555555555556,
              "#d8576b"
             ],
             [
              0.6666666666666666,
              "#ed7953"
             ],
             [
              0.7777777777777778,
              "#fb9f3a"
             ],
             [
              0.8888888888888888,
              "#fdca26"
             ],
             [
              1,
              "#f0f921"
             ]
            ],
            "type": "contour"
           }
          ],
          "contourcarpet": [
           {
            "colorbar": {
             "outlinewidth": 0,
             "ticks": ""
            },
            "type": "contourcarpet"
           }
          ],
          "heatmap": [
           {
            "colorbar": {
             "outlinewidth": 0,
             "ticks": ""
            },
            "colorscale": [
             [
              0,
              "#0d0887"
             ],
             [
              0.1111111111111111,
              "#46039f"
             ],
             [
              0.2222222222222222,
              "#7201a8"
             ],
             [
              0.3333333333333333,
              "#9c179e"
             ],
             [
              0.4444444444444444,
              "#bd3786"
             ],
             [
              0.5555555555555556,
              "#d8576b"
             ],
             [
              0.6666666666666666,
              "#ed7953"
             ],
             [
              0.7777777777777778,
              "#fb9f3a"
             ],
             [
              0.8888888888888888,
              "#fdca26"
             ],
             [
              1,
              "#f0f921"
             ]
            ],
            "type": "heatmap"
           }
          ],
          "heatmapgl": [
           {
            "colorbar": {
             "outlinewidth": 0,
             "ticks": ""
            },
            "colorscale": [
             [
              0,
              "#0d0887"
             ],
             [
              0.1111111111111111,
              "#46039f"
             ],
             [
              0.2222222222222222,
              "#7201a8"
             ],
             [
              0.3333333333333333,
              "#9c179e"
             ],
             [
              0.4444444444444444,
              "#bd3786"
             ],
             [
              0.5555555555555556,
              "#d8576b"
             ],
             [
              0.6666666666666666,
              "#ed7953"
             ],
             [
              0.7777777777777778,
              "#fb9f3a"
             ],
             [
              0.8888888888888888,
              "#fdca26"
             ],
             [
              1,
              "#f0f921"
             ]
            ],
            "type": "heatmapgl"
           }
          ],
          "histogram": [
           {
            "marker": {
             "pattern": {
              "fillmode": "overlay",
              "size": 10,
              "solidity": 0.2
             }
            },
            "type": "histogram"
           }
          ],
          "histogram2d": [
           {
            "colorbar": {
             "outlinewidth": 0,
             "ticks": ""
            },
            "colorscale": [
             [
              0,
              "#0d0887"
             ],
             [
              0.1111111111111111,
              "#46039f"
             ],
             [
              0.2222222222222222,
              "#7201a8"
             ],
             [
              0.3333333333333333,
              "#9c179e"
             ],
             [
              0.4444444444444444,
              "#bd3786"
             ],
             [
              0.5555555555555556,
              "#d8576b"
             ],
             [
              0.6666666666666666,
              "#ed7953"
             ],
             [
              0.7777777777777778,
              "#fb9f3a"
             ],
             [
              0.8888888888888888,
              "#fdca26"
             ],
             [
              1,
              "#f0f921"
             ]
            ],
            "type": "histogram2d"
           }
          ],
          "histogram2dcontour": [
           {
            "colorbar": {
             "outlinewidth": 0,
             "ticks": ""
            },
            "colorscale": [
             [
              0,
              "#0d0887"
             ],
             [
              0.1111111111111111,
              "#46039f"
             ],
             [
              0.2222222222222222,
              "#7201a8"
             ],
             [
              0.3333333333333333,
              "#9c179e"
             ],
             [
              0.4444444444444444,
              "#bd3786"
             ],
             [
              0.5555555555555556,
              "#d8576b"
             ],
             [
              0.6666666666666666,
              "#ed7953"
             ],
             [
              0.7777777777777778,
              "#fb9f3a"
             ],
             [
              0.8888888888888888,
              "#fdca26"
             ],
             [
              1,
              "#f0f921"
             ]
            ],
            "type": "histogram2dcontour"
           }
          ],
          "mesh3d": [
           {
            "colorbar": {
             "outlinewidth": 0,
             "ticks": ""
            },
            "type": "mesh3d"
           }
          ],
          "parcoords": [
           {
            "line": {
             "colorbar": {
              "outlinewidth": 0,
              "ticks": ""
             }
            },
            "type": "parcoords"
           }
          ],
          "pie": [
           {
            "automargin": true,
            "type": "pie"
           }
          ],
          "scatter": [
           {
            "fillpattern": {
             "fillmode": "overlay",
             "size": 10,
             "solidity": 0.2
            },
            "type": "scatter"
           }
          ],
          "scatter3d": [
           {
            "line": {
             "colorbar": {
              "outlinewidth": 0,
              "ticks": ""
             }
            },
            "marker": {
             "colorbar": {
              "outlinewidth": 0,
              "ticks": ""
             }
            },
            "type": "scatter3d"
           }
          ],
          "scattercarpet": [
           {
            "marker": {
             "colorbar": {
              "outlinewidth": 0,
              "ticks": ""
             }
            },
            "type": "scattercarpet"
           }
          ],
          "scattergeo": [
           {
            "marker": {
             "colorbar": {
              "outlinewidth": 0,
              "ticks": ""
             }
            },
            "type": "scattergeo"
           }
          ],
          "scattergl": [
           {
            "marker": {
             "colorbar": {
              "outlinewidth": 0,
              "ticks": ""
             }
            },
            "type": "scattergl"
           }
          ],
          "scattermapbox": [
           {
            "marker": {
             "colorbar": {
              "outlinewidth": 0,
              "ticks": ""
             }
            },
            "type": "scattermapbox"
           }
          ],
          "scatterpolar": [
           {
            "marker": {
             "colorbar": {
              "outlinewidth": 0,
              "ticks": ""
             }
            },
            "type": "scatterpolar"
           }
          ],
          "scatterpolargl": [
           {
            "marker": {
             "colorbar": {
              "outlinewidth": 0,
              "ticks": ""
             }
            },
            "type": "scatterpolargl"
           }
          ],
          "scatterternary": [
           {
            "marker": {
             "colorbar": {
              "outlinewidth": 0,
              "ticks": ""
             }
            },
            "type": "scatterternary"
           }
          ],
          "surface": [
           {
            "colorbar": {
             "outlinewidth": 0,
             "ticks": ""
            },
            "colorscale": [
             [
              0,
              "#0d0887"
             ],
             [
              0.1111111111111111,
              "#46039f"
             ],
             [
              0.2222222222222222,
              "#7201a8"
             ],
             [
              0.3333333333333333,
              "#9c179e"
             ],
             [
              0.4444444444444444,
              "#bd3786"
             ],
             [
              0.5555555555555556,
              "#d8576b"
             ],
             [
              0.6666666666666666,
              "#ed7953"
             ],
             [
              0.7777777777777778,
              "#fb9f3a"
             ],
             [
              0.8888888888888888,
              "#fdca26"
             ],
             [
              1,
              "#f0f921"
             ]
            ],
            "type": "surface"
           }
          ],
          "table": [
           {
            "cells": {
             "fill": {
              "color": "#EBF0F8"
             },
             "line": {
              "color": "white"
             }
            },
            "header": {
             "fill": {
              "color": "#C8D4E3"
             },
             "line": {
              "color": "white"
             }
            },
            "type": "table"
           }
          ]
         },
         "layout": {
          "annotationdefaults": {
           "arrowcolor": "#2a3f5f",
           "arrowhead": 0,
           "arrowwidth": 1
          },
          "autotypenumbers": "strict",
          "coloraxis": {
           "colorbar": {
            "outlinewidth": 0,
            "ticks": ""
           }
          },
          "colorscale": {
           "diverging": [
            [
             0,
             "#8e0152"
            ],
            [
             0.1,
             "#c51b7d"
            ],
            [
             0.2,
             "#de77ae"
            ],
            [
             0.3,
             "#f1b6da"
            ],
            [
             0.4,
             "#fde0ef"
            ],
            [
             0.5,
             "#f7f7f7"
            ],
            [
             0.6,
             "#e6f5d0"
            ],
            [
             0.7,
             "#b8e186"
            ],
            [
             0.8,
             "#7fbc41"
            ],
            [
             0.9,
             "#4d9221"
            ],
            [
             1,
             "#276419"
            ]
           ],
           "sequential": [
            [
             0,
             "#0d0887"
            ],
            [
             0.1111111111111111,
             "#46039f"
            ],
            [
             0.2222222222222222,
             "#7201a8"
            ],
            [
             0.3333333333333333,
             "#9c179e"
            ],
            [
             0.4444444444444444,
             "#bd3786"
            ],
            [
             0.5555555555555556,
             "#d8576b"
            ],
            [
             0.6666666666666666,
             "#ed7953"
            ],
            [
             0.7777777777777778,
             "#fb9f3a"
            ],
            [
             0.8888888888888888,
             "#fdca26"
            ],
            [
             1,
             "#f0f921"
            ]
           ],
           "sequentialminus": [
            [
             0,
             "#0d0887"
            ],
            [
             0.1111111111111111,
             "#46039f"
            ],
            [
             0.2222222222222222,
             "#7201a8"
            ],
            [
             0.3333333333333333,
             "#9c179e"
            ],
            [
             0.4444444444444444,
             "#bd3786"
            ],
            [
             0.5555555555555556,
             "#d8576b"
            ],
            [
             0.6666666666666666,
             "#ed7953"
            ],
            [
             0.7777777777777778,
             "#fb9f3a"
            ],
            [
             0.8888888888888888,
             "#fdca26"
            ],
            [
             1,
             "#f0f921"
            ]
           ]
          },
          "colorway": [
           "#636efa",
           "#EF553B",
           "#00cc96",
           "#ab63fa",
           "#FFA15A",
           "#19d3f3",
           "#FF6692",
           "#B6E880",
           "#FF97FF",
           "#FECB52"
          ],
          "font": {
           "color": "#2a3f5f"
          },
          "geo": {
           "bgcolor": "white",
           "lakecolor": "white",
           "landcolor": "#E5ECF6",
           "showlakes": true,
           "showland": true,
           "subunitcolor": "white"
          },
          "hoverlabel": {
           "align": "left"
          },
          "hovermode": "closest",
          "mapbox": {
           "style": "light"
          },
          "paper_bgcolor": "white",
          "plot_bgcolor": "#E5ECF6",
          "polar": {
           "angularaxis": {
            "gridcolor": "white",
            "linecolor": "white",
            "ticks": ""
           },
           "bgcolor": "#E5ECF6",
           "radialaxis": {
            "gridcolor": "white",
            "linecolor": "white",
            "ticks": ""
           }
          },
          "scene": {
           "xaxis": {
            "backgroundcolor": "#E5ECF6",
            "gridcolor": "white",
            "gridwidth": 2,
            "linecolor": "white",
            "showbackground": true,
            "ticks": "",
            "zerolinecolor": "white"
           },
           "yaxis": {
            "backgroundcolor": "#E5ECF6",
            "gridcolor": "white",
            "gridwidth": 2,
            "linecolor": "white",
            "showbackground": true,
            "ticks": "",
            "zerolinecolor": "white"
           },
           "zaxis": {
            "backgroundcolor": "#E5ECF6",
            "gridcolor": "white",
            "gridwidth": 2,
            "linecolor": "white",
            "showbackground": true,
            "ticks": "",
            "zerolinecolor": "white"
           }
          },
          "shapedefaults": {
           "line": {
            "color": "#2a3f5f"
           }
          },
          "ternary": {
           "aaxis": {
            "gridcolor": "white",
            "linecolor": "white",
            "ticks": ""
           },
           "baxis": {
            "gridcolor": "white",
            "linecolor": "white",
            "ticks": ""
           },
           "bgcolor": "#E5ECF6",
           "caxis": {
            "gridcolor": "white",
            "linecolor": "white",
            "ticks": ""
           }
          },
          "title": {
           "x": 0.05
          },
          "xaxis": {
           "automargin": true,
           "gridcolor": "white",
           "linecolor": "white",
           "ticks": "",
           "title": {
            "standoff": 15
           },
           "zerolinecolor": "white",
           "zerolinewidth": 2
          },
          "yaxis": {
           "automargin": true,
           "gridcolor": "white",
           "linecolor": "white",
           "ticks": "",
           "title": {
            "standoff": 15
           },
           "zerolinecolor": "white",
           "zerolinewidth": 2
          }
         }
        },
        "title": {
         "text": "Gantt Chart for Instance 4; Finished after 46 periods; Objective value: 275"
        },
        "width": 1000,
        "xaxis": {
         "rangeselector": {
          "buttons": [
           {
            "count": 7,
            "label": "1w",
            "step": "day",
            "stepmode": "backward"
           },
           {
            "count": 1,
            "label": "1m",
            "step": "month",
            "stepmode": "backward"
           },
           {
            "count": 6,
            "label": "6m",
            "step": "month",
            "stepmode": "backward"
           },
           {
            "count": 1,
            "label": "YTD",
            "step": "year",
            "stepmode": "todate"
           },
           {
            "count": 1,
            "label": "1y",
            "step": "year",
            "stepmode": "backward"
           },
           {
            "step": "all"
           }
          ]
         },
         "showgrid": false,
         "type": "linear",
         "zeroline": false
        },
        "yaxis": {
         "autorange": false,
         "range": [
          -1,
          5
         ],
         "showgrid": false,
         "ticktext": [
          "Station 4",
          "Station 3",
          "Station 2",
          "Station 1"
         ],
         "tickvals": [
          0,
          1,
          2,
          3
         ],
         "zeroline": false
        }
       }
      }
     },
     "metadata": {},
     "output_type": "display_data"
    }
   ],
   "source": [
    "# Create gantt chart\n",
    "gantt = create_gantt_chart(model, ships, ship_names, stations, X, W, A, F)\n",
    "\n",
    "display(gantt)"
   ]
  }
 ],
 "metadata": {
  "kernelspec": {
   "display_name": "base",
   "language": "python",
   "name": "python3"
  },
  "language_info": {
   "codemirror_mode": {
    "name": "ipython",
    "version": 3
   },
   "file_extension": ".py",
   "mimetype": "text/x-python",
   "name": "python",
   "nbconvert_exporter": "python",
   "pygments_lexer": "ipython3",
   "version": "3.10.11"
  }
 },
 "nbformat": 4,
 "nbformat_minor": 2
}
