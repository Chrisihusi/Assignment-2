{
 "cells": [
  {
   "cell_type": "code",
   "execution_count": 2,
   "metadata": {},
   "outputs": [],
   "source": [
    "import pandas as pd\n",
    "import numpy as np\n",
    "import docplex\n",
    "from docplex.mp.model import Model"
   ]
  },
  {
   "cell_type": "code",
   "execution_count": 62,
   "metadata": {},
   "outputs": [],
   "source": [
    "# Load the Excel file\n",
    "file_path = \"inst1.xlsx\"\n",
    "excel_data = pd.ExcelFile(file_path)\n",
    "\n",
    "# Read data\n",
    "unloading = excel_data.parse(\"Problem_1\", index_col=None, header=0, usecols=\"B:E\", nrows=5, skiprows=1)\n",
    "cat = excel_data.parse(\"Problem_1\", index_col=None, header=0, usecols=\"G:H\", nrows=8, skiprows=1)\n",
    "arrival = excel_data.parse(\"Problem_1\", index_col=None, header=0, usecols=\"J:K\", nrows=8, skiprows=1)\n",
    "\n",
    "# indices\n",
    "ships = np.arange(1, len(arrival)+1)\n",
    "stations = np.arange(1, len(unloading.columns)+1)\n",
    "categories = np.arange(1, len(unloading)+1)\n",
    "names = {a+1: arrival.iloc[a,0] for a in range(0, len(arrival))}\n",
    "\n",
    "# Changing input\n",
    "unloading.index = categories\n",
    "unloading.columns = stations\n",
    "arrival = {a+1: arrival.iloc[a,1] for a in range(0, len(arrival))}\n",
    "#cat = {c+1: cat.iloc[c,1] for c in range(0, len(cat))}\n",
    "\n",
    "# BigM\n",
    "BigM = 99999\n",
    "\n",
    "# Combined parameters\n",
    "conform = pd.DataFrame(index=categories, columns=stations)\n",
    "for c in categories:\n",
    "    for p in stations:\n",
    "        conform.loc[c,p] = 1 if unloading.loc[c,p] < 1000 else 0\n",
    "\n",
    "cat.iloc[:,0] = np.arange(1, len(cat)+1)\n",
    "category = pd.DataFrame(0, index=ships, columns=categories)\n",
    "for _ in range(0,len(cat)):\n",
    "    category.loc[cat.iloc[_,0], cat.iloc[_,1]] = 1"
   ]
  },
  {
   "cell_type": "code",
   "execution_count": 11,
   "metadata": {},
   "outputs": [],
   "source": [
    "model = Model(name=\"ship_sheduling\", log_output=False)"
   ]
  },
  {
   "cell_type": "code",
   "execution_count": 57,
   "metadata": {},
   "outputs": [],
   "source": [
    "model.clear()\n",
    "X = model.integer_var_matrix(ships, stations, name=\"Start\")\n",
    "T = model.binary_var_matrix(ships, stations, name=\"Unloading\")\n",
    "E = model.binary_var_matrix(ships, ships, name=\"Entering\")\n",
    "C_max = model.integer_var(name=\"Makespan\")"
   ]
  },
  {
   "cell_type": "code",
   "execution_count": 94,
   "metadata": {},
   "outputs": [
    {
     "data": {
      "text/plain": [
       "[docplex.mp.LinearConstraint[](Makespan,GE,Start_1_4),\n",
       " docplex.mp.LinearConstraint[](Makespan,GE,Start_1_4),\n",
       " docplex.mp.LinearConstraint[](Makespan,GE,Start_1_4),\n",
       " docplex.mp.LinearConstraint[](Makespan,GE,Start_1_4),\n",
       " docplex.mp.LinearConstraint[](Makespan,GE,Start_1_4+7Unloading_1_4),\n",
       " docplex.mp.LinearConstraint[](Makespan,GE,Start_2_4+9999Unloading_2_4),\n",
       " docplex.mp.LinearConstraint[](Makespan,GE,Start_2_4),\n",
       " docplex.mp.LinearConstraint[](Makespan,GE,Start_2_4),\n",
       " docplex.mp.LinearConstraint[](Makespan,GE,Start_2_4),\n",
       " docplex.mp.LinearConstraint[](Makespan,GE,Start_2_4),\n",
       " docplex.mp.LinearConstraint[](Makespan,GE,Start_3_4),\n",
       " docplex.mp.LinearConstraint[](Makespan,GE,Start_3_4),\n",
       " docplex.mp.LinearConstraint[](Makespan,GE,Start_3_4+2Unloading_3_4),\n",
       " docplex.mp.LinearConstraint[](Makespan,GE,Start_3_4),\n",
       " docplex.mp.LinearConstraint[](Makespan,GE,Start_3_4),\n",
       " docplex.mp.LinearConstraint[](Makespan,GE,Start_4_4),\n",
       " docplex.mp.LinearConstraint[](Makespan,GE,Start_4_4),\n",
       " docplex.mp.LinearConstraint[](Makespan,GE,Start_4_4),\n",
       " docplex.mp.LinearConstraint[](Makespan,GE,Start_4_4+Unloading_4_4),\n",
       " docplex.mp.LinearConstraint[](Makespan,GE,Start_4_4),\n",
       " docplex.mp.LinearConstraint[](Makespan,GE,Start_5_4),\n",
       " docplex.mp.LinearConstraint[](Makespan,GE,Start_5_4),\n",
       " docplex.mp.LinearConstraint[](Makespan,GE,Start_5_4),\n",
       " docplex.mp.LinearConstraint[](Makespan,GE,Start_5_4+Unloading_5_4),\n",
       " docplex.mp.LinearConstraint[](Makespan,GE,Start_5_4),\n",
       " docplex.mp.LinearConstraint[](Makespan,GE,Start_6_4),\n",
       " docplex.mp.LinearConstraint[](Makespan,GE,Start_6_4+9Unloading_6_4),\n",
       " docplex.mp.LinearConstraint[](Makespan,GE,Start_6_4),\n",
       " docplex.mp.LinearConstraint[](Makespan,GE,Start_6_4),\n",
       " docplex.mp.LinearConstraint[](Makespan,GE,Start_6_4),\n",
       " docplex.mp.LinearConstraint[](Makespan,GE,Start_7_4),\n",
       " docplex.mp.LinearConstraint[](Makespan,GE,Start_7_4),\n",
       " docplex.mp.LinearConstraint[](Makespan,GE,Start_7_4),\n",
       " docplex.mp.LinearConstraint[](Makespan,GE,Start_7_4),\n",
       " docplex.mp.LinearConstraint[](Makespan,GE,Start_7_4+7Unloading_7_4),\n",
       " docplex.mp.LinearConstraint[](Makespan,GE,Start_8_4),\n",
       " docplex.mp.LinearConstraint[](Makespan,GE,Start_8_4),\n",
       " docplex.mp.LinearConstraint[](Makespan,GE,Start_8_4),\n",
       " docplex.mp.LinearConstraint[](Makespan,GE,Start_8_4),\n",
       " docplex.mp.LinearConstraint[](Makespan,GE,Start_8_4+7Unloading_8_4)]"
      ]
     },
     "execution_count": 94,
     "metadata": {},
     "output_type": "execute_result"
    }
   ],
   "source": [
    "model.clear_constraints()\n",
    "\n",
    "# No early unlading\n",
    "model.add_constraints(X[s,1] >= arrival[s] for s in ships)\n",
    "\n",
    "# Ship must have passed previous station to reach new station\n",
    "for s in ships:\n",
    "    for p in stations:\n",
    "        for c in categories:\n",
    "            if p > 1:\n",
    "                model.add_constraint(X[s,p] >= X[s,p-1] + unloading.loc[c,p-1] * category.loc[s,c] * T[s,p-1] + 1)\n",
    "\n",
    "# Ships can't overtake\n",
    "for s1 in ships:\n",
    "    for s2 in ships:\n",
    "        for p in stations:\n",
    "            model.add_constraint(X[s2,p] + 1 <= X[s1,p] + (1-E[s1,s2]) * BigM)\n",
    "\n",
    "# Ships must be unloaded once\n",
    "model.add_constraints(model.sum(T[s,p] for p in stations) == 1 for s in ships)\n",
    "\n",
    "# Ships can only be unloaded at conform stations\n",
    "model.add_constraints(T[s,p] * category.loc[s,c] <= conform.loc[c,p] for s in ships for p in stations for c in categories)\n",
    "\n",
    "# Setting the makespan\n",
    "model.add_constraints(C_max >= X[s,4] + unloading.loc[c,4] * category.loc[s,c] * T[s,4] for s in ships for c in categories)"
   ]
  },
  {
   "cell_type": "code",
   "execution_count": 95,
   "metadata": {},
   "outputs": [
    {
     "name": "stdout",
     "output_type": "stream",
     "text": [
      "status  = integer optimal solution\n",
      "time    = 0.015 s.\n",
      "problem = MILP\n",
      "gap     = 0%\n",
      "\n",
      "The objective value is 15.0 Periods\n"
     ]
    }
   ],
   "source": [
    "model.minimize(C_max)\n",
    "model.solve()\n",
    "print(model.solve_details)\n",
    "print(f\"The objective value is {model.objective_value} Periods\")"
   ]
  },
  {
   "cell_type": "markdown",
   "metadata": {},
   "source": [
    "### Visualization"
   ]
  },
  {
   "cell_type": "code",
   "execution_count": 117,
   "metadata": {},
   "outputs": [],
   "source": [
    "df = pd.DataFrame(index=np.arange(0, len(ships)*len(stations)), columns=[\"Task\", \"Start\", \"Finish\", \"Ressource\"])\n",
    "cnt = 0\n",
    "for s in ships:\n",
    "    for p in stations:\n",
    "        for c in categories:\n",
    "            if category.loc[s,c] == 1:\n",
    "                ship_category = c\n",
    "        df.iloc[cnt, 0] = names[s]\n",
    "        df.iloc[cnt, 1] = (X[s,p].solution_value - 1) * 15\n",
    "        if T[s,p].solution_value == 1:\n",
    "            df.iloc[cnt, 2] = (X[s,p].solution_value + unloading.loc[ship_category,p]) * 15\n",
    "        else:\n",
    "            df.iloc[cnt, 2] = X[s,p].solution_value * 15\n",
    "        df.iloc[cnt,3] = p\n",
    "        cnt += 1"
   ]
  },
  {
   "cell_type": "code",
   "execution_count": 99,
   "metadata": {},
   "outputs": [
    {
     "data": {
      "text/html": [
       "<div>\n",
       "<style scoped>\n",
       "    .dataframe tbody tr th:only-of-type {\n",
       "        vertical-align: middle;\n",
       "    }\n",
       "\n",
       "    .dataframe tbody tr th {\n",
       "        vertical-align: top;\n",
       "    }\n",
       "\n",
       "    .dataframe thead th {\n",
       "        text-align: right;\n",
       "    }\n",
       "</style>\n",
       "<table border=\"1\" class=\"dataframe\">\n",
       "  <thead>\n",
       "    <tr style=\"text-align: right;\">\n",
       "      <th></th>\n",
       "      <th>1</th>\n",
       "      <th>2</th>\n",
       "      <th>3</th>\n",
       "      <th>4</th>\n",
       "      <th>5</th>\n",
       "    </tr>\n",
       "  </thead>\n",
       "  <tbody>\n",
       "    <tr>\n",
       "      <th>1</th>\n",
       "      <td>0</td>\n",
       "      <td>0</td>\n",
       "      <td>0</td>\n",
       "      <td>0</td>\n",
       "      <td>1</td>\n",
       "    </tr>\n",
       "    <tr>\n",
       "      <th>2</th>\n",
       "      <td>1</td>\n",
       "      <td>0</td>\n",
       "      <td>0</td>\n",
       "      <td>0</td>\n",
       "      <td>0</td>\n",
       "    </tr>\n",
       "    <tr>\n",
       "      <th>3</th>\n",
       "      <td>0</td>\n",
       "      <td>0</td>\n",
       "      <td>1</td>\n",
       "      <td>0</td>\n",
       "      <td>0</td>\n",
       "    </tr>\n",
       "    <tr>\n",
       "      <th>4</th>\n",
       "      <td>0</td>\n",
       "      <td>0</td>\n",
       "      <td>0</td>\n",
       "      <td>1</td>\n",
       "      <td>0</td>\n",
       "    </tr>\n",
       "    <tr>\n",
       "      <th>5</th>\n",
       "      <td>0</td>\n",
       "      <td>0</td>\n",
       "      <td>0</td>\n",
       "      <td>1</td>\n",
       "      <td>0</td>\n",
       "    </tr>\n",
       "    <tr>\n",
       "      <th>6</th>\n",
       "      <td>0</td>\n",
       "      <td>1</td>\n",
       "      <td>0</td>\n",
       "      <td>0</td>\n",
       "      <td>0</td>\n",
       "    </tr>\n",
       "    <tr>\n",
       "      <th>7</th>\n",
       "      <td>0</td>\n",
       "      <td>0</td>\n",
       "      <td>0</td>\n",
       "      <td>0</td>\n",
       "      <td>1</td>\n",
       "    </tr>\n",
       "    <tr>\n",
       "      <th>8</th>\n",
       "      <td>0</td>\n",
       "      <td>0</td>\n",
       "      <td>0</td>\n",
       "      <td>0</td>\n",
       "      <td>1</td>\n",
       "    </tr>\n",
       "  </tbody>\n",
       "</table>\n",
       "</div>"
      ],
      "text/plain": [
       "   1  2  3  4  5\n",
       "1  0  0  0  0  1\n",
       "2  1  0  0  0  0\n",
       "3  0  0  1  0  0\n",
       "4  0  0  0  1  0\n",
       "5  0  0  0  1  0\n",
       "6  0  1  0  0  0\n",
       "7  0  0  0  0  1\n",
       "8  0  0  0  0  1"
      ]
     },
     "execution_count": 99,
     "metadata": {},
     "output_type": "execute_result"
    }
   ],
   "source": [
    "category"
   ]
  },
  {
   "cell_type": "code",
   "execution_count": 98,
   "metadata": {},
   "outputs": [
    {
     "name": "stdout",
     "output_type": "stream",
     "text": [
      "ship: 1, station: 1, unloadiong: 0\n",
      "ship: 1, station: 2, unloadiong: 0\n",
      "ship: 1, station: 3, unloadiong: 0\n",
      "ship: 1, station: 4, unloadiong: 1.0\n",
      "ship: 2, station: 1, unloadiong: 0\n",
      "ship: 2, station: 2, unloadiong: 0\n",
      "ship: 2, station: 3, unloadiong: 1.0\n",
      "ship: 2, station: 4, unloadiong: 0\n",
      "ship: 3, station: 1, unloadiong: 0\n",
      "ship: 3, station: 2, unloadiong: 0\n",
      "ship: 3, station: 3, unloadiong: 0\n",
      "ship: 3, station: 4, unloadiong: 1.0\n",
      "ship: 4, station: 1, unloadiong: 0\n",
      "ship: 4, station: 2, unloadiong: 0\n",
      "ship: 4, station: 3, unloadiong: 0\n",
      "ship: 4, station: 4, unloadiong: 1.0\n",
      "ship: 5, station: 1, unloadiong: 0\n",
      "ship: 5, station: 2, unloadiong: 0\n",
      "ship: 5, station: 3, unloadiong: 0\n",
      "ship: 5, station: 4, unloadiong: 1.0\n",
      "ship: 6, station: 1, unloadiong: 0\n",
      "ship: 6, station: 2, unloadiong: 1.0\n",
      "ship: 6, station: 3, unloadiong: 0\n",
      "ship: 6, station: 4, unloadiong: 0\n",
      "ship: 7, station: 1, unloadiong: 0\n",
      "ship: 7, station: 2, unloadiong: 0\n",
      "ship: 7, station: 3, unloadiong: 0\n",
      "ship: 7, station: 4, unloadiong: 1.0\n",
      "ship: 8, station: 1, unloadiong: 1.000000000000001\n",
      "ship: 8, station: 2, unloadiong: 0\n",
      "ship: 8, station: 3, unloadiong: 0\n",
      "ship: 8, station: 4, unloadiong: 0\n"
     ]
    }
   ],
   "source": [
    "for s in ships:\n",
    "    for p in stations:\n",
    "        print(f\"ship: {s}, station: {p}, unloadiong: {T[s,p]. solution_value}\")"
   ]
  },
  {
   "cell_type": "code",
   "execution_count": 118,
   "metadata": {},
   "outputs": [
    {
     "data": {
      "text/html": [
       "<div>\n",
       "<style scoped>\n",
       "    .dataframe tbody tr th:only-of-type {\n",
       "        vertical-align: middle;\n",
       "    }\n",
       "\n",
       "    .dataframe tbody tr th {\n",
       "        vertical-align: top;\n",
       "    }\n",
       "\n",
       "    .dataframe thead th {\n",
       "        text-align: right;\n",
       "    }\n",
       "</style>\n",
       "<table border=\"1\" class=\"dataframe\">\n",
       "  <thead>\n",
       "    <tr style=\"text-align: right;\">\n",
       "      <th></th>\n",
       "      <th>Task</th>\n",
       "      <th>Start</th>\n",
       "      <th>Finish</th>\n",
       "      <th>Ressource</th>\n",
       "    </tr>\n",
       "  </thead>\n",
       "  <tbody>\n",
       "    <tr>\n",
       "      <th>0</th>\n",
       "      <td>Exxon</td>\n",
       "      <td>0.0</td>\n",
       "      <td>15.0</td>\n",
       "      <td>1</td>\n",
       "    </tr>\n",
       "    <tr>\n",
       "      <th>1</th>\n",
       "      <td>Exxon</td>\n",
       "      <td>15.0</td>\n",
       "      <td>30.0</td>\n",
       "      <td>2</td>\n",
       "    </tr>\n",
       "    <tr>\n",
       "      <th>2</th>\n",
       "      <td>Exxon</td>\n",
       "      <td>30.0</td>\n",
       "      <td>45.0</td>\n",
       "      <td>3</td>\n",
       "    </tr>\n",
       "    <tr>\n",
       "      <th>3</th>\n",
       "      <td>Exxon</td>\n",
       "      <td>45.0</td>\n",
       "      <td>165.0</td>\n",
       "      <td>4</td>\n",
       "    </tr>\n",
       "    <tr>\n",
       "      <th>4</th>\n",
       "      <td>Nina</td>\n",
       "      <td>0.0</td>\n",
       "      <td>15.0</td>\n",
       "      <td>1</td>\n",
       "    </tr>\n",
       "    <tr>\n",
       "      <th>5</th>\n",
       "      <td>Nina</td>\n",
       "      <td>15.0</td>\n",
       "      <td>30.0</td>\n",
       "      <td>2</td>\n",
       "    </tr>\n",
       "    <tr>\n",
       "      <th>6</th>\n",
       "      <td>Nina</td>\n",
       "      <td>30.0</td>\n",
       "      <td>150.0</td>\n",
       "      <td>3</td>\n",
       "    </tr>\n",
       "    <tr>\n",
       "      <th>7</th>\n",
       "      <td>Nina</td>\n",
       "      <td>150.0</td>\n",
       "      <td>165.0</td>\n",
       "      <td>4</td>\n",
       "    </tr>\n",
       "    <tr>\n",
       "      <th>8</th>\n",
       "      <td>Moers</td>\n",
       "      <td>60.0</td>\n",
       "      <td>75.0</td>\n",
       "      <td>1</td>\n",
       "    </tr>\n",
       "    <tr>\n",
       "      <th>9</th>\n",
       "      <td>Moers</td>\n",
       "      <td>75.0</td>\n",
       "      <td>90.0</td>\n",
       "      <td>2</td>\n",
       "    </tr>\n",
       "    <tr>\n",
       "      <th>10</th>\n",
       "      <td>Moers</td>\n",
       "      <td>90.0</td>\n",
       "      <td>105.0</td>\n",
       "      <td>3</td>\n",
       "    </tr>\n",
       "    <tr>\n",
       "      <th>11</th>\n",
       "      <td>Moers</td>\n",
       "      <td>105.0</td>\n",
       "      <td>150.0</td>\n",
       "      <td>4</td>\n",
       "    </tr>\n",
       "    <tr>\n",
       "      <th>12</th>\n",
       "      <td>Tornado</td>\n",
       "      <td>45.0</td>\n",
       "      <td>60.0</td>\n",
       "      <td>1</td>\n",
       "    </tr>\n",
       "    <tr>\n",
       "      <th>13</th>\n",
       "      <td>Tornado</td>\n",
       "      <td>60.0</td>\n",
       "      <td>75.0</td>\n",
       "      <td>2</td>\n",
       "    </tr>\n",
       "    <tr>\n",
       "      <th>14</th>\n",
       "      <td>Tornado</td>\n",
       "      <td>75.0</td>\n",
       "      <td>90.0</td>\n",
       "      <td>3</td>\n",
       "    </tr>\n",
       "    <tr>\n",
       "      <th>15</th>\n",
       "      <td>Tornado</td>\n",
       "      <td>90.0</td>\n",
       "      <td>120.0</td>\n",
       "      <td>4</td>\n",
       "    </tr>\n",
       "    <tr>\n",
       "      <th>16</th>\n",
       "      <td>Kabul</td>\n",
       "      <td>0.0</td>\n",
       "      <td>15.0</td>\n",
       "      <td>1</td>\n",
       "    </tr>\n",
       "    <tr>\n",
       "      <th>17</th>\n",
       "      <td>Kabul</td>\n",
       "      <td>15.0</td>\n",
       "      <td>30.0</td>\n",
       "      <td>2</td>\n",
       "    </tr>\n",
       "    <tr>\n",
       "      <th>18</th>\n",
       "      <td>Kabul</td>\n",
       "      <td>30.0</td>\n",
       "      <td>45.0</td>\n",
       "      <td>3</td>\n",
       "    </tr>\n",
       "    <tr>\n",
       "      <th>19</th>\n",
       "      <td>Kabul</td>\n",
       "      <td>45.0</td>\n",
       "      <td>75.0</td>\n",
       "      <td>4</td>\n",
       "    </tr>\n",
       "    <tr>\n",
       "      <th>20</th>\n",
       "      <td>Clausthal</td>\n",
       "      <td>75.0</td>\n",
       "      <td>90.0</td>\n",
       "      <td>1</td>\n",
       "    </tr>\n",
       "    <tr>\n",
       "      <th>21</th>\n",
       "      <td>Clausthal</td>\n",
       "      <td>90.0</td>\n",
       "      <td>195.0</td>\n",
       "      <td>2</td>\n",
       "    </tr>\n",
       "    <tr>\n",
       "      <th>22</th>\n",
       "      <td>Clausthal</td>\n",
       "      <td>195.0</td>\n",
       "      <td>210.0</td>\n",
       "      <td>3</td>\n",
       "    </tr>\n",
       "    <tr>\n",
       "      <th>23</th>\n",
       "      <td>Clausthal</td>\n",
       "      <td>210.0</td>\n",
       "      <td>225.0</td>\n",
       "      <td>4</td>\n",
       "    </tr>\n",
       "    <tr>\n",
       "      <th>24</th>\n",
       "      <td>Opladen</td>\n",
       "      <td>30.0</td>\n",
       "      <td>45.0</td>\n",
       "      <td>1</td>\n",
       "    </tr>\n",
       "    <tr>\n",
       "      <th>25</th>\n",
       "      <td>Opladen</td>\n",
       "      <td>45.0</td>\n",
       "      <td>60.0</td>\n",
       "      <td>2</td>\n",
       "    </tr>\n",
       "    <tr>\n",
       "      <th>26</th>\n",
       "      <td>Opladen</td>\n",
       "      <td>60.0</td>\n",
       "      <td>75.0</td>\n",
       "      <td>3</td>\n",
       "    </tr>\n",
       "    <tr>\n",
       "      <th>27</th>\n",
       "      <td>Opladen</td>\n",
       "      <td>75.0</td>\n",
       "      <td>195.0</td>\n",
       "      <td>4</td>\n",
       "    </tr>\n",
       "    <tr>\n",
       "      <th>28</th>\n",
       "      <td>Herta</td>\n",
       "      <td>90.0</td>\n",
       "      <td>105.0</td>\n",
       "      <td>1</td>\n",
       "    </tr>\n",
       "    <tr>\n",
       "      <th>29</th>\n",
       "      <td>Herta</td>\n",
       "      <td>135.0</td>\n",
       "      <td>150.0</td>\n",
       "      <td>2</td>\n",
       "    </tr>\n",
       "    <tr>\n",
       "      <th>30</th>\n",
       "      <td>Herta</td>\n",
       "      <td>150.0</td>\n",
       "      <td>165.0</td>\n",
       "      <td>3</td>\n",
       "    </tr>\n",
       "    <tr>\n",
       "      <th>31</th>\n",
       "      <td>Herta</td>\n",
       "      <td>210.0</td>\n",
       "      <td>225.0</td>\n",
       "      <td>4</td>\n",
       "    </tr>\n",
       "  </tbody>\n",
       "</table>\n",
       "</div>"
      ],
      "text/plain": [
       "         Task  Start Finish Ressource\n",
       "0       Exxon    0.0   15.0         1\n",
       "1       Exxon   15.0   30.0         2\n",
       "2       Exxon   30.0   45.0         3\n",
       "3       Exxon   45.0  165.0         4\n",
       "4        Nina    0.0   15.0         1\n",
       "5        Nina   15.0   30.0         2\n",
       "6        Nina   30.0  150.0         3\n",
       "7        Nina  150.0  165.0         4\n",
       "8       Moers   60.0   75.0         1\n",
       "9       Moers   75.0   90.0         2\n",
       "10      Moers   90.0  105.0         3\n",
       "11      Moers  105.0  150.0         4\n",
       "12    Tornado   45.0   60.0         1\n",
       "13    Tornado   60.0   75.0         2\n",
       "14    Tornado   75.0   90.0         3\n",
       "15    Tornado   90.0  120.0         4\n",
       "16      Kabul    0.0   15.0         1\n",
       "17      Kabul   15.0   30.0         2\n",
       "18      Kabul   30.0   45.0         3\n",
       "19      Kabul   45.0   75.0         4\n",
       "20  Clausthal   75.0   90.0         1\n",
       "21  Clausthal   90.0  195.0         2\n",
       "22  Clausthal  195.0  210.0         3\n",
       "23  Clausthal  210.0  225.0         4\n",
       "24    Opladen   30.0   45.0         1\n",
       "25    Opladen   45.0   60.0         2\n",
       "26    Opladen   60.0   75.0         3\n",
       "27    Opladen   75.0  195.0         4\n",
       "28      Herta   90.0  105.0         1\n",
       "29      Herta  135.0  150.0         2\n",
       "30      Herta  150.0  165.0         3\n",
       "31      Herta  210.0  225.0         4"
      ]
     },
     "execution_count": 118,
     "metadata": {},
     "output_type": "execute_result"
    }
   ],
   "source": [
    "df"
   ]
  },
  {
   "cell_type": "code",
   "execution_count": 119,
   "metadata": {},
   "outputs": [
    {
     "data": {
      "application/vnd.plotly.v1+json": {
       "config": {
        "plotlyServerURL": "https://plot.ly"
       },
       "data": [
        {
         "fill": "toself",
         "fillcolor": "rgb(0, 0, 255)",
         "hoverinfo": "name",
         "legendgroup": "rgb(0, 0, 255)",
         "mode": "none",
         "name": "3",
         "type": "scatter",
         "x": [
          30,
          45,
          45,
          30,
          30,
          30,
          150,
          150,
          30,
          30,
          90,
          105,
          105,
          90,
          90,
          75,
          90,
          90,
          75,
          75,
          30,
          45,
          45,
          30,
          30,
          195,
          210,
          210,
          195,
          195,
          60,
          75,
          75,
          60,
          60,
          150.00000000000003,
          165.00000000000003,
          165.00000000000003,
          150.00000000000003
         ],
         "y": [
          6.6,
          6.6,
          7.4,
          7.4,
          null,
          5.6,
          5.6,
          6.4,
          6.4,
          null,
          4.6,
          4.6,
          5.4,
          5.4,
          null,
          3.6,
          3.6,
          4.4,
          4.4,
          null,
          2.6,
          2.6,
          3.4,
          3.4,
          null,
          1.6,
          1.6,
          2.4,
          2.4,
          null,
          0.6,
          0.6,
          1.4,
          1.4,
          null,
          -0.4,
          -0.4,
          0.4,
          0.4
         ]
        },
        {
         "fill": "toself",
         "fillcolor": "rgb(0, 255, 0)",
         "hoverinfo": "name",
         "legendgroup": "rgb(0, 255, 0)",
         "mode": "none",
         "name": "2",
         "type": "scatter",
         "x": [
          15,
          30,
          30,
          15,
          15,
          15,
          30,
          30,
          15,
          15,
          75,
          90,
          90,
          75,
          75,
          60,
          75,
          75,
          60,
          60,
          15,
          30,
          30,
          15,
          15,
          90,
          195,
          195,
          90,
          90,
          45,
          60,
          60,
          45,
          45,
          135.00000000000003,
          150.00000000000003,
          150.00000000000003,
          135.00000000000003
         ],
         "y": [
          6.6,
          6.6,
          7.4,
          7.4,
          null,
          5.6,
          5.6,
          6.4,
          6.4,
          null,
          4.6,
          4.6,
          5.4,
          5.4,
          null,
          3.6,
          3.6,
          4.4,
          4.4,
          null,
          2.6,
          2.6,
          3.4,
          3.4,
          null,
          1.6,
          1.6,
          2.4,
          2.4,
          null,
          0.6,
          0.6,
          1.4,
          1.4,
          null,
          -0.4,
          -0.4,
          0.4,
          0.4
         ]
        },
        {
         "fill": "toself",
         "fillcolor": "rgb(150, 150, 150)",
         "hoverinfo": "name",
         "legendgroup": "rgb(150, 150, 150)",
         "mode": "none",
         "name": "4",
         "type": "scatter",
         "x": [
          45,
          165,
          165,
          45,
          45,
          150,
          165,
          165,
          150,
          150,
          105,
          150,
          150,
          105,
          105,
          90,
          120,
          120,
          90,
          90,
          45,
          75,
          75,
          45,
          45,
          210,
          225,
          225,
          210,
          210,
          75,
          195,
          195,
          75,
          75,
          210,
          225,
          225,
          210
         ],
         "y": [
          6.6,
          6.6,
          7.4,
          7.4,
          null,
          5.6,
          5.6,
          6.4,
          6.4,
          null,
          4.6,
          4.6,
          5.4,
          5.4,
          null,
          3.6,
          3.6,
          4.4,
          4.4,
          null,
          2.6,
          2.6,
          3.4,
          3.4,
          null,
          1.6,
          1.6,
          2.4,
          2.4,
          null,
          0.6,
          0.6,
          1.4,
          1.4,
          null,
          -0.4,
          -0.4,
          0.4,
          0.4
         ]
        },
        {
         "fill": "toself",
         "fillcolor": "rgb(255, 0, 0)",
         "hoverinfo": "name",
         "legendgroup": "rgb(255, 0, 0)",
         "mode": "none",
         "name": "1",
         "type": "scatter",
         "x": [
          0,
          15,
          15,
          0,
          0,
          0,
          15,
          15,
          0,
          0,
          60,
          75,
          75,
          60,
          60,
          45,
          60,
          60,
          45,
          45,
          0,
          15,
          15,
          0,
          0,
          75,
          90,
          90,
          75,
          75,
          30,
          45,
          45,
          30,
          30,
          90,
          105,
          105,
          90
         ],
         "y": [
          6.6,
          6.6,
          7.4,
          7.4,
          null,
          5.6,
          5.6,
          6.4,
          6.4,
          null,
          4.6,
          4.6,
          5.4,
          5.4,
          null,
          3.6,
          3.6,
          4.4,
          4.4,
          null,
          2.6,
          2.6,
          3.4,
          3.4,
          null,
          1.6,
          1.6,
          2.4,
          2.4,
          null,
          0.6,
          0.6,
          1.4,
          1.4,
          null,
          -0.4,
          -0.4,
          0.4,
          0.4
         ]
        },
        {
         "legendgroup": "rgb(0, 0, 255)",
         "marker": {
          "color": "rgb(0, 0, 255)",
          "opacity": 0,
          "size": 1
         },
         "mode": "markers",
         "name": "",
         "showlegend": false,
         "text": [
          null,
          null,
          null,
          null,
          null,
          null,
          null,
          null,
          null,
          null,
          null,
          null,
          null,
          null,
          null,
          null
         ],
         "type": "scatter",
         "x": [
          30,
          45,
          30,
          150,
          90,
          105,
          75,
          90,
          30,
          45,
          195,
          210,
          60,
          75,
          150.00000000000003,
          165.00000000000003
         ],
         "y": [
          7,
          7,
          6,
          6,
          5,
          5,
          4,
          4,
          3,
          3,
          2,
          2,
          1,
          1,
          0,
          0
         ]
        },
        {
         "legendgroup": "rgb(0, 255, 0)",
         "marker": {
          "color": "rgb(0, 255, 0)",
          "opacity": 0,
          "size": 1
         },
         "mode": "markers",
         "name": "",
         "showlegend": false,
         "text": [
          null,
          null,
          null,
          null,
          null,
          null,
          null,
          null,
          null,
          null,
          null,
          null,
          null,
          null,
          null,
          null
         ],
         "type": "scatter",
         "x": [
          15,
          30,
          15,
          30,
          75,
          90,
          60,
          75,
          15,
          30,
          90,
          195,
          45,
          60,
          135.00000000000003,
          150.00000000000003
         ],
         "y": [
          7,
          7,
          6,
          6,
          5,
          5,
          4,
          4,
          3,
          3,
          2,
          2,
          1,
          1,
          0,
          0
         ]
        },
        {
         "legendgroup": "rgb(150, 150, 150)",
         "marker": {
          "color": "rgb(150, 150, 150)",
          "opacity": 0,
          "size": 1
         },
         "mode": "markers",
         "name": "",
         "showlegend": false,
         "text": [
          null,
          null,
          null,
          null,
          null,
          null,
          null,
          null,
          null,
          null,
          null,
          null,
          null,
          null,
          null,
          null
         ],
         "type": "scatter",
         "x": [
          45,
          165,
          150,
          165,
          105,
          150,
          90,
          120,
          45,
          75,
          210,
          225,
          75,
          195,
          210,
          225
         ],
         "y": [
          7,
          7,
          6,
          6,
          5,
          5,
          4,
          4,
          3,
          3,
          2,
          2,
          1,
          1,
          0,
          0
         ]
        },
        {
         "legendgroup": "rgb(255, 0, 0)",
         "marker": {
          "color": "rgb(255, 0, 0)",
          "opacity": 0,
          "size": 1
         },
         "mode": "markers",
         "name": "",
         "showlegend": false,
         "text": [
          null,
          null,
          null,
          null,
          null,
          null,
          null,
          null,
          null,
          null,
          null,
          null,
          null,
          null,
          null,
          null
         ],
         "type": "scatter",
         "x": [
          0,
          15,
          0,
          15,
          60,
          75,
          45,
          60,
          0,
          15,
          75,
          90,
          30,
          45,
          90,
          105
         ],
         "y": [
          7,
          7,
          6,
          6,
          5,
          5,
          4,
          4,
          3,
          3,
          2,
          2,
          1,
          1,
          0,
          0
         ]
        }
       ],
       "layout": {
        "autosize": false,
        "height": 600,
        "hovermode": "closest",
        "showlegend": true,
        "template": {
         "data": {
          "bar": [
           {
            "error_x": {
             "color": "#2a3f5f"
            },
            "error_y": {
             "color": "#2a3f5f"
            },
            "marker": {
             "line": {
              "color": "#E5ECF6",
              "width": 0.5
             },
             "pattern": {
              "fillmode": "overlay",
              "size": 10,
              "solidity": 0.2
             }
            },
            "type": "bar"
           }
          ],
          "barpolar": [
           {
            "marker": {
             "line": {
              "color": "#E5ECF6",
              "width": 0.5
             },
             "pattern": {
              "fillmode": "overlay",
              "size": 10,
              "solidity": 0.2
             }
            },
            "type": "barpolar"
           }
          ],
          "carpet": [
           {
            "aaxis": {
             "endlinecolor": "#2a3f5f",
             "gridcolor": "white",
             "linecolor": "white",
             "minorgridcolor": "white",
             "startlinecolor": "#2a3f5f"
            },
            "baxis": {
             "endlinecolor": "#2a3f5f",
             "gridcolor": "white",
             "linecolor": "white",
             "minorgridcolor": "white",
             "startlinecolor": "#2a3f5f"
            },
            "type": "carpet"
           }
          ],
          "choropleth": [
           {
            "colorbar": {
             "outlinewidth": 0,
             "ticks": ""
            },
            "type": "choropleth"
           }
          ],
          "contour": [
           {
            "colorbar": {
             "outlinewidth": 0,
             "ticks": ""
            },
            "colorscale": [
             [
              0,
              "#0d0887"
             ],
             [
              0.1111111111111111,
              "#46039f"
             ],
             [
              0.2222222222222222,
              "#7201a8"
             ],
             [
              0.3333333333333333,
              "#9c179e"
             ],
             [
              0.4444444444444444,
              "#bd3786"
             ],
             [
              0.5555555555555556,
              "#d8576b"
             ],
             [
              0.6666666666666666,
              "#ed7953"
             ],
             [
              0.7777777777777778,
              "#fb9f3a"
             ],
             [
              0.8888888888888888,
              "#fdca26"
             ],
             [
              1,
              "#f0f921"
             ]
            ],
            "type": "contour"
           }
          ],
          "contourcarpet": [
           {
            "colorbar": {
             "outlinewidth": 0,
             "ticks": ""
            },
            "type": "contourcarpet"
           }
          ],
          "heatmap": [
           {
            "colorbar": {
             "outlinewidth": 0,
             "ticks": ""
            },
            "colorscale": [
             [
              0,
              "#0d0887"
             ],
             [
              0.1111111111111111,
              "#46039f"
             ],
             [
              0.2222222222222222,
              "#7201a8"
             ],
             [
              0.3333333333333333,
              "#9c179e"
             ],
             [
              0.4444444444444444,
              "#bd3786"
             ],
             [
              0.5555555555555556,
              "#d8576b"
             ],
             [
              0.6666666666666666,
              "#ed7953"
             ],
             [
              0.7777777777777778,
              "#fb9f3a"
             ],
             [
              0.8888888888888888,
              "#fdca26"
             ],
             [
              1,
              "#f0f921"
             ]
            ],
            "type": "heatmap"
           }
          ],
          "heatmapgl": [
           {
            "colorbar": {
             "outlinewidth": 0,
             "ticks": ""
            },
            "colorscale": [
             [
              0,
              "#0d0887"
             ],
             [
              0.1111111111111111,
              "#46039f"
             ],
             [
              0.2222222222222222,
              "#7201a8"
             ],
             [
              0.3333333333333333,
              "#9c179e"
             ],
             [
              0.4444444444444444,
              "#bd3786"
             ],
             [
              0.5555555555555556,
              "#d8576b"
             ],
             [
              0.6666666666666666,
              "#ed7953"
             ],
             [
              0.7777777777777778,
              "#fb9f3a"
             ],
             [
              0.8888888888888888,
              "#fdca26"
             ],
             [
              1,
              "#f0f921"
             ]
            ],
            "type": "heatmapgl"
           }
          ],
          "histogram": [
           {
            "marker": {
             "pattern": {
              "fillmode": "overlay",
              "size": 10,
              "solidity": 0.2
             }
            },
            "type": "histogram"
           }
          ],
          "histogram2d": [
           {
            "colorbar": {
             "outlinewidth": 0,
             "ticks": ""
            },
            "colorscale": [
             [
              0,
              "#0d0887"
             ],
             [
              0.1111111111111111,
              "#46039f"
             ],
             [
              0.2222222222222222,
              "#7201a8"
             ],
             [
              0.3333333333333333,
              "#9c179e"
             ],
             [
              0.4444444444444444,
              "#bd3786"
             ],
             [
              0.5555555555555556,
              "#d8576b"
             ],
             [
              0.6666666666666666,
              "#ed7953"
             ],
             [
              0.7777777777777778,
              "#fb9f3a"
             ],
             [
              0.8888888888888888,
              "#fdca26"
             ],
             [
              1,
              "#f0f921"
             ]
            ],
            "type": "histogram2d"
           }
          ],
          "histogram2dcontour": [
           {
            "colorbar": {
             "outlinewidth": 0,
             "ticks": ""
            },
            "colorscale": [
             [
              0,
              "#0d0887"
             ],
             [
              0.1111111111111111,
              "#46039f"
             ],
             [
              0.2222222222222222,
              "#7201a8"
             ],
             [
              0.3333333333333333,
              "#9c179e"
             ],
             [
              0.4444444444444444,
              "#bd3786"
             ],
             [
              0.5555555555555556,
              "#d8576b"
             ],
             [
              0.6666666666666666,
              "#ed7953"
             ],
             [
              0.7777777777777778,
              "#fb9f3a"
             ],
             [
              0.8888888888888888,
              "#fdca26"
             ],
             [
              1,
              "#f0f921"
             ]
            ],
            "type": "histogram2dcontour"
           }
          ],
          "mesh3d": [
           {
            "colorbar": {
             "outlinewidth": 0,
             "ticks": ""
            },
            "type": "mesh3d"
           }
          ],
          "parcoords": [
           {
            "line": {
             "colorbar": {
              "outlinewidth": 0,
              "ticks": ""
             }
            },
            "type": "parcoords"
           }
          ],
          "pie": [
           {
            "automargin": true,
            "type": "pie"
           }
          ],
          "scatter": [
           {
            "fillpattern": {
             "fillmode": "overlay",
             "size": 10,
             "solidity": 0.2
            },
            "type": "scatter"
           }
          ],
          "scatter3d": [
           {
            "line": {
             "colorbar": {
              "outlinewidth": 0,
              "ticks": ""
             }
            },
            "marker": {
             "colorbar": {
              "outlinewidth": 0,
              "ticks": ""
             }
            },
            "type": "scatter3d"
           }
          ],
          "scattercarpet": [
           {
            "marker": {
             "colorbar": {
              "outlinewidth": 0,
              "ticks": ""
             }
            },
            "type": "scattercarpet"
           }
          ],
          "scattergeo": [
           {
            "marker": {
             "colorbar": {
              "outlinewidth": 0,
              "ticks": ""
             }
            },
            "type": "scattergeo"
           }
          ],
          "scattergl": [
           {
            "marker": {
             "colorbar": {
              "outlinewidth": 0,
              "ticks": ""
             }
            },
            "type": "scattergl"
           }
          ],
          "scattermapbox": [
           {
            "marker": {
             "colorbar": {
              "outlinewidth": 0,
              "ticks": ""
             }
            },
            "type": "scattermapbox"
           }
          ],
          "scatterpolar": [
           {
            "marker": {
             "colorbar": {
              "outlinewidth": 0,
              "ticks": ""
             }
            },
            "type": "scatterpolar"
           }
          ],
          "scatterpolargl": [
           {
            "marker": {
             "colorbar": {
              "outlinewidth": 0,
              "ticks": ""
             }
            },
            "type": "scatterpolargl"
           }
          ],
          "scatterternary": [
           {
            "marker": {
             "colorbar": {
              "outlinewidth": 0,
              "ticks": ""
             }
            },
            "type": "scatterternary"
           }
          ],
          "surface": [
           {
            "colorbar": {
             "outlinewidth": 0,
             "ticks": ""
            },
            "colorscale": [
             [
              0,
              "#0d0887"
             ],
             [
              0.1111111111111111,
              "#46039f"
             ],
             [
              0.2222222222222222,
              "#7201a8"
             ],
             [
              0.3333333333333333,
              "#9c179e"
             ],
             [
              0.4444444444444444,
              "#bd3786"
             ],
             [
              0.5555555555555556,
              "#d8576b"
             ],
             [
              0.6666666666666666,
              "#ed7953"
             ],
             [
              0.7777777777777778,
              "#fb9f3a"
             ],
             [
              0.8888888888888888,
              "#fdca26"
             ],
             [
              1,
              "#f0f921"
             ]
            ],
            "type": "surface"
           }
          ],
          "table": [
           {
            "cells": {
             "fill": {
              "color": "#EBF0F8"
             },
             "line": {
              "color": "white"
             }
            },
            "header": {
             "fill": {
              "color": "#C8D4E3"
             },
             "line": {
              "color": "white"
             }
            },
            "type": "table"
           }
          ]
         },
         "layout": {
          "annotationdefaults": {
           "arrowcolor": "#2a3f5f",
           "arrowhead": 0,
           "arrowwidth": 1
          },
          "autotypenumbers": "strict",
          "coloraxis": {
           "colorbar": {
            "outlinewidth": 0,
            "ticks": ""
           }
          },
          "colorscale": {
           "diverging": [
            [
             0,
             "#8e0152"
            ],
            [
             0.1,
             "#c51b7d"
            ],
            [
             0.2,
             "#de77ae"
            ],
            [
             0.3,
             "#f1b6da"
            ],
            [
             0.4,
             "#fde0ef"
            ],
            [
             0.5,
             "#f7f7f7"
            ],
            [
             0.6,
             "#e6f5d0"
            ],
            [
             0.7,
             "#b8e186"
            ],
            [
             0.8,
             "#7fbc41"
            ],
            [
             0.9,
             "#4d9221"
            ],
            [
             1,
             "#276419"
            ]
           ],
           "sequential": [
            [
             0,
             "#0d0887"
            ],
            [
             0.1111111111111111,
             "#46039f"
            ],
            [
             0.2222222222222222,
             "#7201a8"
            ],
            [
             0.3333333333333333,
             "#9c179e"
            ],
            [
             0.4444444444444444,
             "#bd3786"
            ],
            [
             0.5555555555555556,
             "#d8576b"
            ],
            [
             0.6666666666666666,
             "#ed7953"
            ],
            [
             0.7777777777777778,
             "#fb9f3a"
            ],
            [
             0.8888888888888888,
             "#fdca26"
            ],
            [
             1,
             "#f0f921"
            ]
           ],
           "sequentialminus": [
            [
             0,
             "#0d0887"
            ],
            [
             0.1111111111111111,
             "#46039f"
            ],
            [
             0.2222222222222222,
             "#7201a8"
            ],
            [
             0.3333333333333333,
             "#9c179e"
            ],
            [
             0.4444444444444444,
             "#bd3786"
            ],
            [
             0.5555555555555556,
             "#d8576b"
            ],
            [
             0.6666666666666666,
             "#ed7953"
            ],
            [
             0.7777777777777778,
             "#fb9f3a"
            ],
            [
             0.8888888888888888,
             "#fdca26"
            ],
            [
             1,
             "#f0f921"
            ]
           ]
          },
          "colorway": [
           "#636efa",
           "#EF553B",
           "#00cc96",
           "#ab63fa",
           "#FFA15A",
           "#19d3f3",
           "#FF6692",
           "#B6E880",
           "#FF97FF",
           "#FECB52"
          ],
          "font": {
           "color": "#2a3f5f"
          },
          "geo": {
           "bgcolor": "white",
           "lakecolor": "white",
           "landcolor": "#E5ECF6",
           "showlakes": true,
           "showland": true,
           "subunitcolor": "white"
          },
          "hoverlabel": {
           "align": "left"
          },
          "hovermode": "closest",
          "mapbox": {
           "style": "light"
          },
          "paper_bgcolor": "white",
          "plot_bgcolor": "#E5ECF6",
          "polar": {
           "angularaxis": {
            "gridcolor": "white",
            "linecolor": "white",
            "ticks": ""
           },
           "bgcolor": "#E5ECF6",
           "radialaxis": {
            "gridcolor": "white",
            "linecolor": "white",
            "ticks": ""
           }
          },
          "scene": {
           "xaxis": {
            "backgroundcolor": "#E5ECF6",
            "gridcolor": "white",
            "gridwidth": 2,
            "linecolor": "white",
            "showbackground": true,
            "ticks": "",
            "zerolinecolor": "white"
           },
           "yaxis": {
            "backgroundcolor": "#E5ECF6",
            "gridcolor": "white",
            "gridwidth": 2,
            "linecolor": "white",
            "showbackground": true,
            "ticks": "",
            "zerolinecolor": "white"
           },
           "zaxis": {
            "backgroundcolor": "#E5ECF6",
            "gridcolor": "white",
            "gridwidth": 2,
            "linecolor": "white",
            "showbackground": true,
            "ticks": "",
            "zerolinecolor": "white"
           }
          },
          "shapedefaults": {
           "line": {
            "color": "#2a3f5f"
           }
          },
          "ternary": {
           "aaxis": {
            "gridcolor": "white",
            "linecolor": "white",
            "ticks": ""
           },
           "baxis": {
            "gridcolor": "white",
            "linecolor": "white",
            "ticks": ""
           },
           "bgcolor": "#E5ECF6",
           "caxis": {
            "gridcolor": "white",
            "linecolor": "white",
            "ticks": ""
           }
          },
          "title": {
           "x": 0.05
          },
          "xaxis": {
           "automargin": true,
           "gridcolor": "white",
           "linecolor": "white",
           "ticks": "",
           "title": {
            "standoff": 15
           },
           "zerolinecolor": "white",
           "zerolinewidth": 2
          },
          "yaxis": {
           "automargin": true,
           "gridcolor": "white",
           "linecolor": "white",
           "ticks": "",
           "title": {
            "standoff": 15
           },
           "zerolinecolor": "white",
           "zerolinewidth": 2
          }
         }
        },
        "title": {
         "text": "Gantt Chart"
        },
        "width": 800,
        "xaxis": {
         "rangeselector": {
          "buttons": [
           {
            "count": 7,
            "label": "1w",
            "step": "day",
            "stepmode": "backward"
           },
           {
            "count": 1,
            "label": "1m",
            "step": "month",
            "stepmode": "backward"
           },
           {
            "count": 6,
            "label": "6m",
            "step": "month",
            "stepmode": "backward"
           },
           {
            "count": 1,
            "label": "YTD",
            "step": "year",
            "stepmode": "todate"
           },
           {
            "count": 1,
            "label": "1y",
            "step": "year",
            "stepmode": "backward"
           },
           {
            "step": "all"
           }
          ]
         },
         "showgrid": false,
         "type": "linear",
         "zeroline": false
        },
        "yaxis": {
         "autorange": false,
         "range": [
          -1,
          9
         ],
         "showgrid": false,
         "ticktext": [
          "Herta",
          "Opladen",
          "Clausthal",
          "Kabul",
          "Tornado",
          "Moers",
          "Nina",
          "Exxon"
         ],
         "tickvals": [
          0,
          1,
          2,
          3,
          4,
          5,
          6,
          7
         ],
         "zeroline": false
        }
       }
      }
     },
     "metadata": {},
     "output_type": "display_data"
    }
   ],
   "source": [
    "import matplotlib.pyplot as plt\n",
    "import plotly.figure_factory as ff\n",
    "\n",
    "colors = {1: \"rgb(255, 0, 0)\",\n",
    "         2: \"rgb(0, 255, 0)\",\n",
    "         3: \"rgb(0, 0, 255)\",\n",
    "         4: \"rgb(150, 150, 150)\"}\n",
    "\n",
    "fig = ff.create_gantt(df, colors=colors, index_col=\"Ressource\", show_colorbar=True, group_tasks=True, bar_width=0.4)\n",
    "fig.update_layout(xaxis_type='linear', autosize=False, width=800, height=600)\n",
    "fig.show()"
   ]
  },
  {
   "cell_type": "code",
   "execution_count": 90,
   "metadata": {},
   "outputs": [
    {
     "data": {
      "text/plain": [
       "{1: 1, 2: 1, 3: 5, 4: 4, 5: 1, 6: 6, 7: 3, 8: 7}"
      ]
     },
     "execution_count": 90,
     "metadata": {},
     "output_type": "execute_result"
    }
   ],
   "source": [
    "arrival"
   ]
  }
 ],
 "metadata": {
  "kernelspec": {
   "display_name": "base",
   "language": "python",
   "name": "python3"
  },
  "language_info": {
   "codemirror_mode": {
    "name": "ipython",
    "version": 3
   },
   "file_extension": ".py",
   "mimetype": "text/x-python",
   "name": "python",
   "nbconvert_exporter": "python",
   "pygments_lexer": "ipython3",
   "version": "3.9.13"
  }
 },
 "nbformat": 4,
 "nbformat_minor": 2
}
