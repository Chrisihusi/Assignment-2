{
 "cells": [
  {
   "cell_type": "code",
   "execution_count": 143,
   "metadata": {},
   "outputs": [],
   "source": [
    "import pandas as pd\n",
    "import numpy as np\n",
    "import docplex\n",
    "from docplex.mp.model import Model\n",
    "import matplotlib.pyplot as plt\n",
    "import plotly.figure_factory as ff"
   ]
  },
  {
   "cell_type": "markdown",
   "metadata": {},
   "source": [
    "## Instance 1"
   ]
  },
  {
   "cell_type": "code",
   "execution_count": 144,
   "metadata": {},
   "outputs": [],
   "source": [
    "# Load the Excel file\n",
    "file_path = \"inst1.xlsx\"\n",
    "excel_data = pd.ExcelFile(file_path)\n",
    "\n",
    "# Read data\n",
    "unloading = excel_data.parse(\"Problem_1\", index_col=None, header=0, usecols=\"B:E\", nrows=5, skiprows=1)\n",
    "cat = excel_data.parse(\"Problem_1\", index_col=None, header=0, usecols=\"G:H\", nrows=8, skiprows=1)\n",
    "arrival = excel_data.parse(\"Problem_1\", index_col=None, header=0, usecols=\"J:K\", nrows=8, skiprows=1)\n",
    "\n",
    "# indices\n",
    "ships = np.arange(1, len(arrival)+1)\n",
    "stations = np.arange(1, len(unloading.columns)+1)\n",
    "categories = np.arange(1, len(unloading)+1)\n",
    "names = {a+1: arrival.iloc[a,0] for a in range(0, len(arrival))}\n",
    "\n",
    "# Changing input\n",
    "unloading.index = categories\n",
    "unloading.columns = stations\n",
    "arrival = {a+1: arrival.iloc[a,1] for a in range(0, len(arrival))}\n",
    "\n",
    "# BigM\n",
    "BigM = 99999\n",
    "\n",
    "# Combined parameters\n",
    "conform = pd.DataFrame(index=categories, columns=stations)\n",
    "for c in categories:\n",
    "    for p in stations:\n",
    "        conform.loc[c,p] = 1 if unloading.loc[c,p] < 1000 else 0\n",
    "\n",
    "cat.iloc[:,0] = np.arange(1, len(cat)+1)\n",
    "category = pd.DataFrame(0, index=ships, columns=categories)\n",
    "for _ in range(0,len(cat)):\n",
    "    category.loc[cat.iloc[_,0], cat.iloc[_,1]] = 1"
   ]
  },
  {
   "cell_type": "code",
   "execution_count": 147,
   "metadata": {},
   "outputs": [],
   "source": [
    "def solve_model():\n",
    "    # Creating the model\n",
    "    model = Model(name=\"ship_sheduling\", log_output=False)\n",
    "    \n",
    "    X = model.integer_var_matrix(ships, stations, name=\"Start\")\n",
    "    T = model.binary_var_matrix(ships, stations, name=\"Unloading\")\n",
    "    E = model.binary_var_matrix(ships, ships, name=\"Entering\")\n",
    "    C_max = model.integer_var(name=\"Makespan\")\n",
    "\n",
    "    # Constraints\n",
    "    model.clear_constraints()\n",
    "\n",
    "    # No early unlading\n",
    "    model.add_constraints(X[s,1] >= arrival[s] for s in ships)\n",
    "\n",
    "    # Ship must have passed previous station to reach new station\n",
    "    for s in ships:\n",
    "        for p in stations:\n",
    "            for c in categories:\n",
    "                if p > 1:\n",
    "                    model.add_constraint(X[s,p] >= X[s,p-1] + unloading.loc[c,p-1] * category.loc[s,c] * T[s,p-1] + 1)\n",
    "\n",
    "    # No overtaking and no two ships at one station\n",
    "    for s1 in ships:\n",
    "        for s2 in ships:\n",
    "            if s1 != s2:\n",
    "                for p in stations:\n",
    "                    for c in categories:\n",
    "                        model.add_constraint(X[s2,p] >= X[s1,p] + unloading.loc[c,p] * category.loc[s1,c] * T[s1,p] + (E[s1,s2] - 1) * BigM + 1)\n",
    "\n",
    "    for s1 in ships:\n",
    "        for s2 in ships:\n",
    "            if s1 != s2:\n",
    "                model.add_constraint(E[s1,s2] + E[s2,s1] == 1)\n",
    "\n",
    "    # Ships must be unloaded once\n",
    "    model.add_constraints(model.sum(T[s,p] for p in stations) == 1 for s in ships)\n",
    "\n",
    "    # Ships can only be unloaded at conform stations\n",
    "    model.add_constraints(T[s,p] * category.loc[s,c] <= conform.loc[c,p] for s in ships for p in stations for c in categories)\n",
    "\n",
    "    # Setting the makespan\n",
    "    model.add_constraints(C_max >= X[s,4] + unloading.loc[c,4] * category.loc[s,c] * T[s,4] for s in ships for c in categories)\n",
    "\n",
    "    # Solving the model and printing the output\n",
    "    model.minimize(C_max)\n",
    "    model.solve()\n",
    "    print(model.solve_details)\n",
    "    print(f\"The objective value is {model.objective_value} Periods\")\n",
    "\n",
    "    return model, X, T, E, C_max"
   ]
  },
  {
   "cell_type": "code",
   "execution_count": 3,
   "metadata": {},
   "outputs": [],
   "source": [
    "# model = Model(name=\"ship_sheduling\", log_output=False)"
   ]
  },
  {
   "cell_type": "code",
   "execution_count": 12,
   "metadata": {},
   "outputs": [],
   "source": [
    "# model.clear()\n",
    "# X = model.integer_var_matrix(ships, stations, name=\"Start\")\n",
    "# T = model.binary_var_matrix(ships, stations, name=\"Unloading\")\n",
    "# E = model.binary_var_matrix(ships, ships, name=\"Entering\")\n",
    "# C_max = model.integer_var(name=\"Makespan\")"
   ]
  },
  {
   "cell_type": "code",
   "execution_count": 115,
   "metadata": {},
   "outputs": [
    {
     "name": "stdout",
     "output_type": "stream",
     "text": [
      "Finish\n"
     ]
    }
   ],
   "source": [
    "# model.clear_constraints()\n",
    "\n",
    "# # No early unlading\n",
    "# model.add_constraints(X[s,1] >= arrival[s] for s in ships)\n",
    "\n",
    "# # Ship must have passed previous station to reach new station\n",
    "# for s in ships:\n",
    "#     for p in stations:\n",
    "#         for c in categories:\n",
    "#             if p > 1:\n",
    "#                 model.add_constraint(X[s,p] >= X[s,p-1] + unloading.loc[c,p-1] * category.loc[s,c] * T[s,p-1] + 1)\n",
    "\n",
    "# for s1 in ships:\n",
    "#     for s2 in ships:\n",
    "#         if s1 != s2:\n",
    "#             for p in stations:\n",
    "#                 for c in categories:\n",
    "#                     model.add_constraint(X[s2,p] >= X[s1,p] + unloading.loc[c,p] * category.loc[s1,c] * T[s1,p] + (E[s1,s2] - 1) * BigM + 1)\n",
    "\n",
    "# for s1 in ships:\n",
    "#     for s2 in ships:\n",
    "#         if s1 != s2:\n",
    "#             model.add_constraint(E[s1,s2] + E[s2,s1] == 1)\n",
    "\n",
    "# # Ships must be unloaded once\n",
    "# model.add_constraints(model.sum(T[s,p] for p in stations) == 1 for s in ships)\n",
    "\n",
    "# # Ships can only be unloaded at conform stations\n",
    "# model.add_constraints(T[s,p] * category.loc[s,c] <= conform.loc[c,p] for s in ships for p in stations for c in categories)\n",
    "\n",
    "# # Setting the makespan\n",
    "# model.add_constraints(C_max >= X[s,4] + unloading.loc[c,4] * category.loc[s,c] * T[s,4] for s in ships for c in categories)\n",
    "\n",
    "# print(\"Finish\")"
   ]
  },
  {
   "cell_type": "code",
   "execution_count": 116,
   "metadata": {},
   "outputs": [
    {
     "name": "stdout",
     "output_type": "stream",
     "text": [
      "status  = integer optimal solution\n",
      "time    = 0.594 s.\n",
      "problem = MILP\n",
      "gap     = 0%\n",
      "\n",
      "The objective value is 20.0 Periods\n"
     ]
    }
   ],
   "source": [
    "# model.minimize(C_max)\n",
    "# model.solve()\n",
    "# print(model.solve_details)\n",
    "# print(f\"The objective value is {model.objective_value} Periods\")"
   ]
  },
  {
   "cell_type": "code",
   "execution_count": 148,
   "metadata": {},
   "outputs": [
    {
     "name": "stdout",
     "output_type": "stream",
     "text": [
      "status  = integer optimal solution\n",
      "time    = 0.812 s.\n",
      "problem = MILP\n",
      "gap     = 0%\n",
      "\n",
      "The objective value is 20.0 Periods\n"
     ]
    }
   ],
   "source": [
    "m, x, t, e, c_max = solve_model()"
   ]
  },
  {
   "cell_type": "markdown",
   "metadata": {},
   "source": [
    "#### Visualization"
   ]
  },
  {
   "cell_type": "code",
   "execution_count": 149,
   "metadata": {},
   "outputs": [
    {
     "data": {
      "application/vnd.plotly.v1+json": {
       "config": {
        "plotlyServerURL": "https://plot.ly"
       },
       "data": [
        {
         "fill": "toself",
         "fillcolor": "rgb(0, 0, 255)",
         "hoverinfo": "name",
         "legendgroup": "rgb(0, 0, 255)",
         "mode": "none",
         "name": "3",
         "type": "scatter",
         "x": [
          60,
          75,
          75,
          60,
          60,
          255,
          270,
          270,
          255,
          255,
          90,
          105,
          105,
          90,
          90,
          75,
          90,
          90,
          75,
          75,
          225,
          240,
          240,
          225,
          225,
          105,
          210,
          210,
          105,
          105,
          240,
          255,
          255,
          240,
          240,
          270,
          285,
          285,
          270
         ],
         "y": [
          6.6,
          6.6,
          7.4,
          7.4,
          null,
          5.6,
          5.6,
          6.4,
          6.4,
          null,
          4.6,
          4.6,
          5.4,
          5.4,
          null,
          3.6,
          3.6,
          4.4,
          4.4,
          null,
          2.6,
          2.6,
          3.4,
          3.4,
          null,
          1.6,
          1.6,
          2.4,
          2.4,
          null,
          0.6,
          0.6,
          1.4,
          1.4,
          null,
          -0.4,
          -0.4,
          0.4,
          0.4
         ]
        },
        {
         "fill": "toself",
         "fillcolor": "rgb(0, 255, 0)",
         "hoverinfo": "name",
         "legendgroup": "rgb(0, 255, 0)",
         "mode": "none",
         "name": "2",
         "type": "scatter",
         "x": [
          45,
          60,
          60,
          45,
          45,
          240,
          255,
          255,
          240,
          240,
          75,
          90,
          90,
          75,
          75,
          60,
          75,
          75,
          60,
          60,
          105,
          210,
          210,
          105,
          105,
          90,
          105,
          105,
          90,
          90,
          225,
          240,
          240,
          225,
          225,
          255,
          270,
          270,
          255
         ],
         "y": [
          6.6,
          6.6,
          7.4,
          7.4,
          null,
          5.6,
          5.6,
          6.4,
          6.4,
          null,
          4.6,
          4.6,
          5.4,
          5.4,
          null,
          3.6,
          3.6,
          4.4,
          4.4,
          null,
          2.6,
          2.6,
          3.4,
          3.4,
          null,
          1.6,
          1.6,
          2.4,
          2.4,
          null,
          0.6,
          0.6,
          1.4,
          1.4,
          null,
          -0.4,
          -0.4,
          0.4,
          0.4
         ]
        },
        {
         "fill": "toself",
         "fillcolor": "rgb(150, 150, 150)",
         "hoverinfo": "name",
         "legendgroup": "rgb(150, 150, 150)",
         "mode": "none",
         "name": "4",
         "type": "scatter",
         "x": [
          75,
          90,
          90,
          75,
          75,
          270,
          285,
          285,
          270,
          270,
          120,
          150,
          150,
          120,
          120,
          90,
          105,
          105,
          90,
          90,
          240,
          255,
          255,
          240,
          240,
          225,
          240,
          240,
          225,
          225,
          255,
          270,
          270,
          255,
          255,
          285,
          300,
          300,
          285
         ],
         "y": [
          6.6,
          6.6,
          7.4,
          7.4,
          null,
          5.6,
          5.6,
          6.4,
          6.4,
          null,
          4.6,
          4.6,
          5.4,
          5.4,
          null,
          3.6,
          3.6,
          4.4,
          4.4,
          null,
          2.6,
          2.6,
          3.4,
          3.4,
          null,
          1.6,
          1.6,
          2.4,
          2.4,
          null,
          0.6,
          0.6,
          1.4,
          1.4,
          null,
          -0.4,
          -0.4,
          0.4,
          0.4
         ]
        },
        {
         "fill": "toself",
         "fillcolor": "rgb(255, 0, 0)",
         "hoverinfo": "name",
         "legendgroup": "rgb(255, 0, 0)",
         "mode": "none",
         "name": "1",
         "type": "scatter",
         "x": [
          0,
          30,
          30,
          0,
          0,
          150,
          195,
          195,
          150,
          150,
          60,
          75,
          75,
          60,
          60,
          45,
          60,
          60,
          45,
          45,
          90,
          105,
          105,
          90,
          90,
          75,
          90,
          90,
          75,
          75,
          105,
          135,
          135,
          105,
          105,
          210,
          240,
          240,
          210
         ],
         "y": [
          6.6,
          6.6,
          7.4,
          7.4,
          null,
          5.6,
          5.6,
          6.4,
          6.4,
          null,
          4.6,
          4.6,
          5.4,
          5.4,
          null,
          3.6,
          3.6,
          4.4,
          4.4,
          null,
          2.6,
          2.6,
          3.4,
          3.4,
          null,
          1.6,
          1.6,
          2.4,
          2.4,
          null,
          0.6,
          0.6,
          1.4,
          1.4,
          null,
          -0.4,
          -0.4,
          0.4,
          0.4
         ]
        },
        {
         "legendgroup": "rgb(0, 0, 255)",
         "marker": {
          "color": "rgb(0, 0, 255)",
          "opacity": 0,
          "size": 1
         },
         "mode": "markers",
         "name": "",
         "showlegend": false,
         "text": [
          null,
          null,
          null,
          null,
          null,
          null,
          null,
          null,
          null,
          null,
          null,
          null,
          null,
          null,
          null,
          null
         ],
         "type": "scatter",
         "x": [
          60,
          75,
          255,
          270,
          90,
          105,
          75,
          90,
          225,
          240,
          105,
          210,
          240,
          255,
          270,
          285
         ],
         "y": [
          7,
          7,
          6,
          6,
          5,
          5,
          4,
          4,
          3,
          3,
          2,
          2,
          1,
          1,
          0,
          0
         ]
        },
        {
         "legendgroup": "rgb(0, 255, 0)",
         "marker": {
          "color": "rgb(0, 255, 0)",
          "opacity": 0,
          "size": 1
         },
         "mode": "markers",
         "name": "",
         "showlegend": false,
         "text": [
          null,
          null,
          null,
          null,
          null,
          null,
          null,
          null,
          null,
          null,
          null,
          null,
          null,
          null,
          null,
          null
         ],
         "type": "scatter",
         "x": [
          45,
          60,
          240,
          255,
          75,
          90,
          60,
          75,
          105,
          210,
          90,
          105,
          225,
          240,
          255,
          270
         ],
         "y": [
          7,
          7,
          6,
          6,
          5,
          5,
          4,
          4,
          3,
          3,
          2,
          2,
          1,
          1,
          0,
          0
         ]
        },
        {
         "legendgroup": "rgb(150, 150, 150)",
         "marker": {
          "color": "rgb(150, 150, 150)",
          "opacity": 0,
          "size": 1
         },
         "mode": "markers",
         "name": "",
         "showlegend": false,
         "text": [
          null,
          null,
          null,
          null,
          null,
          null,
          null,
          null,
          null,
          null,
          null,
          null,
          null,
          null,
          null,
          null
         ],
         "type": "scatter",
         "x": [
          75,
          90,
          270,
          285,
          120,
          150,
          90,
          105,
          240,
          255,
          225,
          240,
          255,
          270,
          285,
          300
         ],
         "y": [
          7,
          7,
          6,
          6,
          5,
          5,
          4,
          4,
          3,
          3,
          2,
          2,
          1,
          1,
          0,
          0
         ]
        },
        {
         "legendgroup": "rgb(255, 0, 0)",
         "marker": {
          "color": "rgb(255, 0, 0)",
          "opacity": 0,
          "size": 1
         },
         "mode": "markers",
         "name": "",
         "showlegend": false,
         "text": [
          null,
          null,
          null,
          null,
          null,
          null,
          null,
          null,
          null,
          null,
          null,
          null,
          null,
          null,
          null,
          null
         ],
         "type": "scatter",
         "x": [
          0,
          30,
          150,
          195,
          60,
          75,
          45,
          60,
          90,
          105,
          75,
          90,
          105,
          135,
          210,
          240
         ],
         "y": [
          7,
          7,
          6,
          6,
          5,
          5,
          4,
          4,
          3,
          3,
          2,
          2,
          1,
          1,
          0,
          0
         ]
        }
       ],
       "layout": {
        "autosize": false,
        "height": 600,
        "hovermode": "closest",
        "showlegend": true,
        "template": {
         "data": {
          "bar": [
           {
            "error_x": {
             "color": "#2a3f5f"
            },
            "error_y": {
             "color": "#2a3f5f"
            },
            "marker": {
             "line": {
              "color": "#E5ECF6",
              "width": 0.5
             },
             "pattern": {
              "fillmode": "overlay",
              "size": 10,
              "solidity": 0.2
             }
            },
            "type": "bar"
           }
          ],
          "barpolar": [
           {
            "marker": {
             "line": {
              "color": "#E5ECF6",
              "width": 0.5
             },
             "pattern": {
              "fillmode": "overlay",
              "size": 10,
              "solidity": 0.2
             }
            },
            "type": "barpolar"
           }
          ],
          "carpet": [
           {
            "aaxis": {
             "endlinecolor": "#2a3f5f",
             "gridcolor": "white",
             "linecolor": "white",
             "minorgridcolor": "white",
             "startlinecolor": "#2a3f5f"
            },
            "baxis": {
             "endlinecolor": "#2a3f5f",
             "gridcolor": "white",
             "linecolor": "white",
             "minorgridcolor": "white",
             "startlinecolor": "#2a3f5f"
            },
            "type": "carpet"
           }
          ],
          "choropleth": [
           {
            "colorbar": {
             "outlinewidth": 0,
             "ticks": ""
            },
            "type": "choropleth"
           }
          ],
          "contour": [
           {
            "colorbar": {
             "outlinewidth": 0,
             "ticks": ""
            },
            "colorscale": [
             [
              0,
              "#0d0887"
             ],
             [
              0.1111111111111111,
              "#46039f"
             ],
             [
              0.2222222222222222,
              "#7201a8"
             ],
             [
              0.3333333333333333,
              "#9c179e"
             ],
             [
              0.4444444444444444,
              "#bd3786"
             ],
             [
              0.5555555555555556,
              "#d8576b"
             ],
             [
              0.6666666666666666,
              "#ed7953"
             ],
             [
              0.7777777777777778,
              "#fb9f3a"
             ],
             [
              0.8888888888888888,
              "#fdca26"
             ],
             [
              1,
              "#f0f921"
             ]
            ],
            "type": "contour"
           }
          ],
          "contourcarpet": [
           {
            "colorbar": {
             "outlinewidth": 0,
             "ticks": ""
            },
            "type": "contourcarpet"
           }
          ],
          "heatmap": [
           {
            "colorbar": {
             "outlinewidth": 0,
             "ticks": ""
            },
            "colorscale": [
             [
              0,
              "#0d0887"
             ],
             [
              0.1111111111111111,
              "#46039f"
             ],
             [
              0.2222222222222222,
              "#7201a8"
             ],
             [
              0.3333333333333333,
              "#9c179e"
             ],
             [
              0.4444444444444444,
              "#bd3786"
             ],
             [
              0.5555555555555556,
              "#d8576b"
             ],
             [
              0.6666666666666666,
              "#ed7953"
             ],
             [
              0.7777777777777778,
              "#fb9f3a"
             ],
             [
              0.8888888888888888,
              "#fdca26"
             ],
             [
              1,
              "#f0f921"
             ]
            ],
            "type": "heatmap"
           }
          ],
          "heatmapgl": [
           {
            "colorbar": {
             "outlinewidth": 0,
             "ticks": ""
            },
            "colorscale": [
             [
              0,
              "#0d0887"
             ],
             [
              0.1111111111111111,
              "#46039f"
             ],
             [
              0.2222222222222222,
              "#7201a8"
             ],
             [
              0.3333333333333333,
              "#9c179e"
             ],
             [
              0.4444444444444444,
              "#bd3786"
             ],
             [
              0.5555555555555556,
              "#d8576b"
             ],
             [
              0.6666666666666666,
              "#ed7953"
             ],
             [
              0.7777777777777778,
              "#fb9f3a"
             ],
             [
              0.8888888888888888,
              "#fdca26"
             ],
             [
              1,
              "#f0f921"
             ]
            ],
            "type": "heatmapgl"
           }
          ],
          "histogram": [
           {
            "marker": {
             "pattern": {
              "fillmode": "overlay",
              "size": 10,
              "solidity": 0.2
             }
            },
            "type": "histogram"
           }
          ],
          "histogram2d": [
           {
            "colorbar": {
             "outlinewidth": 0,
             "ticks": ""
            },
            "colorscale": [
             [
              0,
              "#0d0887"
             ],
             [
              0.1111111111111111,
              "#46039f"
             ],
             [
              0.2222222222222222,
              "#7201a8"
             ],
             [
              0.3333333333333333,
              "#9c179e"
             ],
             [
              0.4444444444444444,
              "#bd3786"
             ],
             [
              0.5555555555555556,
              "#d8576b"
             ],
             [
              0.6666666666666666,
              "#ed7953"
             ],
             [
              0.7777777777777778,
              "#fb9f3a"
             ],
             [
              0.8888888888888888,
              "#fdca26"
             ],
             [
              1,
              "#f0f921"
             ]
            ],
            "type": "histogram2d"
           }
          ],
          "histogram2dcontour": [
           {
            "colorbar": {
             "outlinewidth": 0,
             "ticks": ""
            },
            "colorscale": [
             [
              0,
              "#0d0887"
             ],
             [
              0.1111111111111111,
              "#46039f"
             ],
             [
              0.2222222222222222,
              "#7201a8"
             ],
             [
              0.3333333333333333,
              "#9c179e"
             ],
             [
              0.4444444444444444,
              "#bd3786"
             ],
             [
              0.5555555555555556,
              "#d8576b"
             ],
             [
              0.6666666666666666,
              "#ed7953"
             ],
             [
              0.7777777777777778,
              "#fb9f3a"
             ],
             [
              0.8888888888888888,
              "#fdca26"
             ],
             [
              1,
              "#f0f921"
             ]
            ],
            "type": "histogram2dcontour"
           }
          ],
          "mesh3d": [
           {
            "colorbar": {
             "outlinewidth": 0,
             "ticks": ""
            },
            "type": "mesh3d"
           }
          ],
          "parcoords": [
           {
            "line": {
             "colorbar": {
              "outlinewidth": 0,
              "ticks": ""
             }
            },
            "type": "parcoords"
           }
          ],
          "pie": [
           {
            "automargin": true,
            "type": "pie"
           }
          ],
          "scatter": [
           {
            "fillpattern": {
             "fillmode": "overlay",
             "size": 10,
             "solidity": 0.2
            },
            "type": "scatter"
           }
          ],
          "scatter3d": [
           {
            "line": {
             "colorbar": {
              "outlinewidth": 0,
              "ticks": ""
             }
            },
            "marker": {
             "colorbar": {
              "outlinewidth": 0,
              "ticks": ""
             }
            },
            "type": "scatter3d"
           }
          ],
          "scattercarpet": [
           {
            "marker": {
             "colorbar": {
              "outlinewidth": 0,
              "ticks": ""
             }
            },
            "type": "scattercarpet"
           }
          ],
          "scattergeo": [
           {
            "marker": {
             "colorbar": {
              "outlinewidth": 0,
              "ticks": ""
             }
            },
            "type": "scattergeo"
           }
          ],
          "scattergl": [
           {
            "marker": {
             "colorbar": {
              "outlinewidth": 0,
              "ticks": ""
             }
            },
            "type": "scattergl"
           }
          ],
          "scattermapbox": [
           {
            "marker": {
             "colorbar": {
              "outlinewidth": 0,
              "ticks": ""
             }
            },
            "type": "scattermapbox"
           }
          ],
          "scatterpolar": [
           {
            "marker": {
             "colorbar": {
              "outlinewidth": 0,
              "ticks": ""
             }
            },
            "type": "scatterpolar"
           }
          ],
          "scatterpolargl": [
           {
            "marker": {
             "colorbar": {
              "outlinewidth": 0,
              "ticks": ""
             }
            },
            "type": "scatterpolargl"
           }
          ],
          "scatterternary": [
           {
            "marker": {
             "colorbar": {
              "outlinewidth": 0,
              "ticks": ""
             }
            },
            "type": "scatterternary"
           }
          ],
          "surface": [
           {
            "colorbar": {
             "outlinewidth": 0,
             "ticks": ""
            },
            "colorscale": [
             [
              0,
              "#0d0887"
             ],
             [
              0.1111111111111111,
              "#46039f"
             ],
             [
              0.2222222222222222,
              "#7201a8"
             ],
             [
              0.3333333333333333,
              "#9c179e"
             ],
             [
              0.4444444444444444,
              "#bd3786"
             ],
             [
              0.5555555555555556,
              "#d8576b"
             ],
             [
              0.6666666666666666,
              "#ed7953"
             ],
             [
              0.7777777777777778,
              "#fb9f3a"
             ],
             [
              0.8888888888888888,
              "#fdca26"
             ],
             [
              1,
              "#f0f921"
             ]
            ],
            "type": "surface"
           }
          ],
          "table": [
           {
            "cells": {
             "fill": {
              "color": "#EBF0F8"
             },
             "line": {
              "color": "white"
             }
            },
            "header": {
             "fill": {
              "color": "#C8D4E3"
             },
             "line": {
              "color": "white"
             }
            },
            "type": "table"
           }
          ]
         },
         "layout": {
          "annotationdefaults": {
           "arrowcolor": "#2a3f5f",
           "arrowhead": 0,
           "arrowwidth": 1
          },
          "autotypenumbers": "strict",
          "coloraxis": {
           "colorbar": {
            "outlinewidth": 0,
            "ticks": ""
           }
          },
          "colorscale": {
           "diverging": [
            [
             0,
             "#8e0152"
            ],
            [
             0.1,
             "#c51b7d"
            ],
            [
             0.2,
             "#de77ae"
            ],
            [
             0.3,
             "#f1b6da"
            ],
            [
             0.4,
             "#fde0ef"
            ],
            [
             0.5,
             "#f7f7f7"
            ],
            [
             0.6,
             "#e6f5d0"
            ],
            [
             0.7,
             "#b8e186"
            ],
            [
             0.8,
             "#7fbc41"
            ],
            [
             0.9,
             "#4d9221"
            ],
            [
             1,
             "#276419"
            ]
           ],
           "sequential": [
            [
             0,
             "#0d0887"
            ],
            [
             0.1111111111111111,
             "#46039f"
            ],
            [
             0.2222222222222222,
             "#7201a8"
            ],
            [
             0.3333333333333333,
             "#9c179e"
            ],
            [
             0.4444444444444444,
             "#bd3786"
            ],
            [
             0.5555555555555556,
             "#d8576b"
            ],
            [
             0.6666666666666666,
             "#ed7953"
            ],
            [
             0.7777777777777778,
             "#fb9f3a"
            ],
            [
             0.8888888888888888,
             "#fdca26"
            ],
            [
             1,
             "#f0f921"
            ]
           ],
           "sequentialminus": [
            [
             0,
             "#0d0887"
            ],
            [
             0.1111111111111111,
             "#46039f"
            ],
            [
             0.2222222222222222,
             "#7201a8"
            ],
            [
             0.3333333333333333,
             "#9c179e"
            ],
            [
             0.4444444444444444,
             "#bd3786"
            ],
            [
             0.5555555555555556,
             "#d8576b"
            ],
            [
             0.6666666666666666,
             "#ed7953"
            ],
            [
             0.7777777777777778,
             "#fb9f3a"
            ],
            [
             0.8888888888888888,
             "#fdca26"
            ],
            [
             1,
             "#f0f921"
            ]
           ]
          },
          "colorway": [
           "#636efa",
           "#EF553B",
           "#00cc96",
           "#ab63fa",
           "#FFA15A",
           "#19d3f3",
           "#FF6692",
           "#B6E880",
           "#FF97FF",
           "#FECB52"
          ],
          "font": {
           "color": "#2a3f5f"
          },
          "geo": {
           "bgcolor": "white",
           "lakecolor": "white",
           "landcolor": "#E5ECF6",
           "showlakes": true,
           "showland": true,
           "subunitcolor": "white"
          },
          "hoverlabel": {
           "align": "left"
          },
          "hovermode": "closest",
          "mapbox": {
           "style": "light"
          },
          "paper_bgcolor": "white",
          "plot_bgcolor": "#E5ECF6",
          "polar": {
           "angularaxis": {
            "gridcolor": "white",
            "linecolor": "white",
            "ticks": ""
           },
           "bgcolor": "#E5ECF6",
           "radialaxis": {
            "gridcolor": "white",
            "linecolor": "white",
            "ticks": ""
           }
          },
          "scene": {
           "xaxis": {
            "backgroundcolor": "#E5ECF6",
            "gridcolor": "white",
            "gridwidth": 2,
            "linecolor": "white",
            "showbackground": true,
            "ticks": "",
            "zerolinecolor": "white"
           },
           "yaxis": {
            "backgroundcolor": "#E5ECF6",
            "gridcolor": "white",
            "gridwidth": 2,
            "linecolor": "white",
            "showbackground": true,
            "ticks": "",
            "zerolinecolor": "white"
           },
           "zaxis": {
            "backgroundcolor": "#E5ECF6",
            "gridcolor": "white",
            "gridwidth": 2,
            "linecolor": "white",
            "showbackground": true,
            "ticks": "",
            "zerolinecolor": "white"
           }
          },
          "shapedefaults": {
           "line": {
            "color": "#2a3f5f"
           }
          },
          "ternary": {
           "aaxis": {
            "gridcolor": "white",
            "linecolor": "white",
            "ticks": ""
           },
           "baxis": {
            "gridcolor": "white",
            "linecolor": "white",
            "ticks": ""
           },
           "bgcolor": "#E5ECF6",
           "caxis": {
            "gridcolor": "white",
            "linecolor": "white",
            "ticks": ""
           }
          },
          "title": {
           "x": 0.05
          },
          "xaxis": {
           "automargin": true,
           "gridcolor": "white",
           "linecolor": "white",
           "ticks": "",
           "title": {
            "standoff": 15
           },
           "zerolinecolor": "white",
           "zerolinewidth": 2
          },
          "yaxis": {
           "automargin": true,
           "gridcolor": "white",
           "linecolor": "white",
           "ticks": "",
           "title": {
            "standoff": 15
           },
           "zerolinecolor": "white",
           "zerolinewidth": 2
          }
         }
        },
        "title": {
         "text": "Gantt Chart"
        },
        "width": 800,
        "xaxis": {
         "rangeselector": {
          "buttons": [
           {
            "count": 7,
            "label": "1w",
            "step": "day",
            "stepmode": "backward"
           },
           {
            "count": 1,
            "label": "1m",
            "step": "month",
            "stepmode": "backward"
           },
           {
            "count": 6,
            "label": "6m",
            "step": "month",
            "stepmode": "backward"
           },
           {
            "count": 1,
            "label": "YTD",
            "step": "year",
            "stepmode": "todate"
           },
           {
            "count": 1,
            "label": "1y",
            "step": "year",
            "stepmode": "backward"
           },
           {
            "step": "all"
           }
          ]
         },
         "showgrid": false,
         "type": "linear",
         "zeroline": false
        },
        "yaxis": {
         "autorange": false,
         "range": [
          -1,
          9
         ],
         "showgrid": false,
         "ticktext": [
          "Herta",
          "Opladen",
          "Clausthal",
          "Kabul",
          "Tornado",
          "Moers",
          "Nina",
          "Exxon"
         ],
         "tickvals": [
          0,
          1,
          2,
          3,
          4,
          5,
          6,
          7
         ],
         "zeroline": false
        }
       }
      }
     },
     "metadata": {},
     "output_type": "display_data"
    }
   ],
   "source": [
    "df = pd.DataFrame(index=np.arange(0, len(ships)*len(stations)), columns=[\"Task\", \"Start\", \"Finish\", \"Station\"])\n",
    "cnt = 0\n",
    "for s in ships:\n",
    "    for p in stations:\n",
    "        for c in categories:\n",
    "            if category.loc[s,c] == 1:\n",
    "                ship_category = c\n",
    "        df.iloc[cnt, 0] = names[s]\n",
    "        df.iloc[cnt, 1] = (x[s,p].solution_value - 1) * 15\n",
    "        if t[s,p].solution_value == 1:\n",
    "            df.iloc[cnt, 2] = ((x[s,p].solution_value + unloading.loc[ship_category,p]) - 1) * 15\n",
    "        else:\n",
    "            df.iloc[cnt, 2] = x[s,p].solution_value * 15\n",
    "        df.iloc[cnt,3] = p\n",
    "        cnt += 1\n",
    "\n",
    "colors = {1: \"rgb(255, 0, 0)\",\n",
    "         2: \"rgb(0, 255, 0)\",\n",
    "         3: \"rgb(0, 0, 255)\",\n",
    "         4: \"rgb(150, 150, 150)\"}\n",
    "\n",
    "fig = ff.create_gantt(df, colors=colors, index_col=\"Station\", show_colorbar=True, group_tasks=True, bar_width=0.4)\n",
    "fig.update_layout(xaxis_type='linear', autosize=False, width=800, height=600)\n",
    "fig.show()"
   ]
  },
  {
   "cell_type": "code",
   "execution_count": 151,
   "metadata": {},
   "outputs": [
    {
     "name": "stdout",
     "output_type": "stream",
     "text": [
      "Ship 1 with category 5 is unloaded at jetty 1\n",
      "Ship 2 with category 1 is unloaded at jetty 1\n",
      "Ship 3 with category 3 is unloaded at jetty 4\n",
      "Ship 4 with category 4 is unloaded at jetty 4\n",
      "Ship 5 with category 4 is unloaded at jetty 2\n",
      "Ship 6 with category 2 is unloaded at jetty 3\n",
      "Ship 7 with category 5 is unloaded at jetty 1\n",
      "Ship 8 with category 5 is unloaded at jetty 1\n"
     ]
    }
   ],
   "source": [
    "for s in ships:\n",
    "    for p in stations:\n",
    "        for c in categories:\n",
    "            if category.loc[s,c] == 1:\n",
    "                if t[s,p].solution_value == 1:\n",
    "                    print(f\"Ship {s} with category {c} is unloaded at jetty {p}\")"
   ]
  },
  {
   "cell_type": "markdown",
   "metadata": {},
   "source": [
    "## Instnace 2"
   ]
  },
  {
   "cell_type": "code",
   "execution_count": 158,
   "metadata": {},
   "outputs": [],
   "source": [
    "# Load the Excel file\n",
    "file_path = \"inst2.xlsx\"\n",
    "excel_data = pd.ExcelFile(file_path)\n",
    "\n",
    "# Read data\n",
    "unloading = excel_data.parse(\"Problem_2\", index_col=None, header=0, usecols=\"B:E\", nrows=5, skiprows=1)\n",
    "cat = excel_data.parse(\"Problem_2\", index_col=None, header=0, usecols=\"G:H\", nrows=10, skiprows=1)\n",
    "arrival = excel_data.parse(\"Problem_2\", index_col=None, header=0, usecols=\"J:K\", nrows=10, skiprows=1)\n",
    "\n",
    "# indices\n",
    "ships = np.arange(1, len(arrival)+1)\n",
    "stations = np.arange(1, len(unloading.columns)+1)\n",
    "categories = np.arange(1, len(unloading)+1)\n",
    "names = {a+1: arrival.iloc[a,0] for a in range(0, len(arrival))}\n",
    "\n",
    "# Changing input\n",
    "unloading.index = categories\n",
    "unloading.columns = stations\n",
    "arrival = {a+1: arrival.iloc[a,1] for a in range(0, len(arrival))}\n",
    "\n",
    "# BigM\n",
    "BigM = 99999\n",
    "\n",
    "# Combined parameters\n",
    "conform = pd.DataFrame(index=categories, columns=stations)\n",
    "for c in categories:\n",
    "    for p in stations:\n",
    "        conform.loc[c,p] = 1 if unloading.loc[c,p] < 1000 else 0\n",
    "\n",
    "cat.iloc[:,0] = np.arange(1, len(cat)+1)\n",
    "category = pd.DataFrame(0, index=ships, columns=categories)\n",
    "for _ in range(0,len(cat)):\n",
    "    category.loc[cat.iloc[_,0], cat.iloc[_,1]] = 1"
   ]
  },
  {
   "cell_type": "code",
   "execution_count": 159,
   "metadata": {},
   "outputs": [
    {
     "name": "stdout",
     "output_type": "stream",
     "text": [
      "status  = integer optimal solution\n",
      "time    = 3.344 s.\n",
      "problem = MILP\n",
      "gap     = 0%\n",
      "\n",
      "The objective value is 24.0 Periods\n"
     ]
    }
   ],
   "source": [
    "m.clear()\n",
    "m, x, t, e, c_max = solve_model()"
   ]
  },
  {
   "cell_type": "markdown",
   "metadata": {},
   "source": [
    "#### Visualization"
   ]
  },
  {
   "cell_type": "code",
   "execution_count": 161,
   "metadata": {},
   "outputs": [
    {
     "data": {
      "application/vnd.plotly.v1+json": {
       "config": {
        "plotlyServerURL": "https://plot.ly"
       },
       "data": [
        {
         "fill": "toself",
         "fillcolor": "rgb(0, 0, 255)",
         "hoverinfo": "name",
         "legendgroup": "rgb(0, 0, 255)",
         "mode": "none",
         "name": "3",
         "type": "scatter",
         "x": [
          30,
          45,
          45,
          30,
          30,
          135,
          240,
          240,
          135,
          135,
          90,
          105,
          105,
          90,
          90,
          300,
          315,
          315,
          300,
          300,
          285,
          300,
          300,
          285,
          285,
          255,
          270,
          270,
          255,
          255,
          105,
          120,
          120,
          105,
          105,
          270,
          285,
          285,
          270,
          270,
          120,
          135,
          135,
          120,
          120,
          330,
          345,
          345,
          330
         ],
         "y": [
          8.6,
          8.6,
          9.4,
          9.4,
          null,
          7.6,
          7.6,
          8.4,
          8.4,
          null,
          6.6,
          6.6,
          7.4,
          7.4,
          null,
          5.6,
          5.6,
          6.4,
          6.4,
          null,
          4.6,
          4.6,
          5.4,
          5.4,
          null,
          3.6,
          3.6,
          4.4,
          4.4,
          null,
          2.6,
          2.6,
          3.4,
          3.4,
          null,
          1.6,
          1.6,
          2.4,
          2.4,
          null,
          0.6,
          0.6,
          1.4,
          1.4,
          null,
          -0.4,
          -0.4,
          0.4,
          0.4
         ]
        },
        {
         "fill": "toself",
         "fillcolor": "rgb(0, 255, 0)",
         "hoverinfo": "name",
         "legendgroup": "rgb(0, 255, 0)",
         "mode": "none",
         "name": "2",
         "type": "scatter",
         "x": [
          15,
          30,
          30,
          15,
          15,
          120,
          135,
          135,
          120,
          120,
          30,
          75,
          75,
          30,
          30,
          285,
          300,
          300,
          285,
          285,
          270,
          285,
          285,
          270,
          270,
          150,
          165,
          165,
          150,
          150,
          90,
          105,
          105,
          90,
          90,
          165,
          255,
          255,
          165,
          165,
          105,
          120,
          120,
          105,
          105,
          315,
          330,
          330,
          315
         ],
         "y": [
          8.6,
          8.6,
          9.4,
          9.4,
          null,
          7.6,
          7.6,
          8.4,
          8.4,
          null,
          6.6,
          6.6,
          7.4,
          7.4,
          null,
          5.6,
          5.6,
          6.4,
          6.4,
          null,
          4.6,
          4.6,
          5.4,
          5.4,
          null,
          3.6,
          3.6,
          4.4,
          4.4,
          null,
          2.6,
          2.6,
          3.4,
          3.4,
          null,
          1.6,
          1.6,
          2.4,
          2.4,
          null,
          0.6,
          0.6,
          1.4,
          1.4,
          null,
          -0.4,
          -0.4,
          0.4,
          0.4
         ]
        },
        {
         "fill": "toself",
         "fillcolor": "rgb(150, 150, 150)",
         "hoverinfo": "name",
         "legendgroup": "rgb(150, 150, 150)",
         "mode": "none",
         "name": "4",
         "type": "scatter",
         "x": [
          45,
          180,
          180,
          45,
          45,
          255,
          270,
          270,
          255,
          255,
          195,
          210,
          210,
          195,
          195,
          315,
          330,
          330,
          315,
          315,
          300,
          315,
          315,
          300,
          300,
          270,
          285,
          285,
          270,
          270,
          210,
          225,
          225,
          210,
          210,
          285,
          300,
          300,
          285,
          285,
          225,
          240,
          240,
          225,
          225,
          345,
          360,
          360,
          345
         ],
         "y": [
          8.6,
          8.6,
          9.4,
          9.4,
          null,
          7.6,
          7.6,
          8.4,
          8.4,
          null,
          6.6,
          6.6,
          7.4,
          7.4,
          null,
          5.6,
          5.6,
          6.4,
          6.4,
          null,
          4.6,
          4.6,
          5.4,
          5.4,
          null,
          3.6,
          3.6,
          4.4,
          4.4,
          null,
          2.6,
          2.6,
          3.4,
          3.4,
          null,
          1.6,
          1.6,
          2.4,
          2.4,
          null,
          0.6,
          0.6,
          1.4,
          1.4,
          null,
          -0.4,
          -0.4,
          0.4,
          0.4
         ]
        },
        {
         "fill": "toself",
         "fillcolor": "rgb(255, 0, 0)",
         "hoverinfo": "name",
         "legendgroup": "rgb(255, 0, 0)",
         "mode": "none",
         "name": "1",
         "type": "scatter",
         "x": [
          0,
          15,
          15,
          0,
          0,
          90,
          105,
          105,
          90,
          90,
          15,
          30,
          30,
          15,
          15,
          225,
          240,
          240,
          225,
          225,
          165,
          210,
          210,
          165,
          165,
          105,
          135,
          135,
          105,
          105,
          30,
          60,
          60,
          30,
          30,
          150,
          165,
          165,
          150,
          150,
          75,
          90,
          90,
          75,
          75,
          240,
          300,
          300,
          240
         ],
         "y": [
          8.6,
          8.6,
          9.4,
          9.4,
          null,
          7.6,
          7.6,
          8.4,
          8.4,
          null,
          6.6,
          6.6,
          7.4,
          7.4,
          null,
          5.6,
          5.6,
          6.4,
          6.4,
          null,
          4.6,
          4.6,
          5.4,
          5.4,
          null,
          3.6,
          3.6,
          4.4,
          4.4,
          null,
          2.6,
          2.6,
          3.4,
          3.4,
          null,
          1.6,
          1.6,
          2.4,
          2.4,
          null,
          0.6,
          0.6,
          1.4,
          1.4,
          null,
          -0.4,
          -0.4,
          0.4,
          0.4
         ]
        },
        {
         "legendgroup": "rgb(0, 0, 255)",
         "marker": {
          "color": "rgb(0, 0, 255)",
          "opacity": 0,
          "size": 1
         },
         "mode": "markers",
         "name": "",
         "showlegend": false,
         "text": [
          null,
          null,
          null,
          null,
          null,
          null,
          null,
          null,
          null,
          null,
          null,
          null,
          null,
          null,
          null,
          null,
          null,
          null,
          null,
          null
         ],
         "type": "scatter",
         "x": [
          30,
          45,
          135,
          240,
          90,
          105,
          300,
          315,
          285,
          300,
          255,
          270,
          105,
          120,
          270,
          285,
          120,
          135,
          330,
          345
         ],
         "y": [
          9,
          9,
          8,
          8,
          7,
          7,
          6,
          6,
          5,
          5,
          4,
          4,
          3,
          3,
          2,
          2,
          1,
          1,
          0,
          0
         ]
        },
        {
         "legendgroup": "rgb(0, 255, 0)",
         "marker": {
          "color": "rgb(0, 255, 0)",
          "opacity": 0,
          "size": 1
         },
         "mode": "markers",
         "name": "",
         "showlegend": false,
         "text": [
          null,
          null,
          null,
          null,
          null,
          null,
          null,
          null,
          null,
          null,
          null,
          null,
          null,
          null,
          null,
          null,
          null,
          null,
          null,
          null
         ],
         "type": "scatter",
         "x": [
          15,
          30,
          120,
          135,
          30,
          75,
          285,
          300,
          270,
          285,
          150,
          165,
          90,
          105,
          165,
          255,
          105,
          120,
          315,
          330
         ],
         "y": [
          9,
          9,
          8,
          8,
          7,
          7,
          6,
          6,
          5,
          5,
          4,
          4,
          3,
          3,
          2,
          2,
          1,
          1,
          0,
          0
         ]
        },
        {
         "legendgroup": "rgb(150, 150, 150)",
         "marker": {
          "color": "rgb(150, 150, 150)",
          "opacity": 0,
          "size": 1
         },
         "mode": "markers",
         "name": "",
         "showlegend": false,
         "text": [
          null,
          null,
          null,
          null,
          null,
          null,
          null,
          null,
          null,
          null,
          null,
          null,
          null,
          null,
          null,
          null,
          null,
          null,
          null,
          null
         ],
         "type": "scatter",
         "x": [
          45,
          180,
          255,
          270,
          195,
          210,
          315,
          330,
          300,
          315,
          270,
          285,
          210,
          225,
          285,
          300,
          225,
          240,
          345,
          360
         ],
         "y": [
          9,
          9,
          8,
          8,
          7,
          7,
          6,
          6,
          5,
          5,
          4,
          4,
          3,
          3,
          2,
          2,
          1,
          1,
          0,
          0
         ]
        },
        {
         "legendgroup": "rgb(255, 0, 0)",
         "marker": {
          "color": "rgb(255, 0, 0)",
          "opacity": 0,
          "size": 1
         },
         "mode": "markers",
         "name": "",
         "showlegend": false,
         "text": [
          null,
          null,
          null,
          null,
          null,
          null,
          null,
          null,
          null,
          null,
          null,
          null,
          null,
          null,
          null,
          null,
          null,
          null,
          null,
          null
         ],
         "type": "scatter",
         "x": [
          0,
          15,
          90,
          105,
          15,
          30,
          225,
          240,
          165,
          210,
          105,
          135,
          30,
          60,
          150,
          165,
          75,
          90,
          240,
          300
         ],
         "y": [
          9,
          9,
          8,
          8,
          7,
          7,
          6,
          6,
          5,
          5,
          4,
          4,
          3,
          3,
          2,
          2,
          1,
          1,
          0,
          0
         ]
        }
       ],
       "layout": {
        "autosize": false,
        "height": 600,
        "hovermode": "closest",
        "showlegend": true,
        "template": {
         "data": {
          "bar": [
           {
            "error_x": {
             "color": "#2a3f5f"
            },
            "error_y": {
             "color": "#2a3f5f"
            },
            "marker": {
             "line": {
              "color": "#E5ECF6",
              "width": 0.5
             },
             "pattern": {
              "fillmode": "overlay",
              "size": 10,
              "solidity": 0.2
             }
            },
            "type": "bar"
           }
          ],
          "barpolar": [
           {
            "marker": {
             "line": {
              "color": "#E5ECF6",
              "width": 0.5
             },
             "pattern": {
              "fillmode": "overlay",
              "size": 10,
              "solidity": 0.2
             }
            },
            "type": "barpolar"
           }
          ],
          "carpet": [
           {
            "aaxis": {
             "endlinecolor": "#2a3f5f",
             "gridcolor": "white",
             "linecolor": "white",
             "minorgridcolor": "white",
             "startlinecolor": "#2a3f5f"
            },
            "baxis": {
             "endlinecolor": "#2a3f5f",
             "gridcolor": "white",
             "linecolor": "white",
             "minorgridcolor": "white",
             "startlinecolor": "#2a3f5f"
            },
            "type": "carpet"
           }
          ],
          "choropleth": [
           {
            "colorbar": {
             "outlinewidth": 0,
             "ticks": ""
            },
            "type": "choropleth"
           }
          ],
          "contour": [
           {
            "colorbar": {
             "outlinewidth": 0,
             "ticks": ""
            },
            "colorscale": [
             [
              0,
              "#0d0887"
             ],
             [
              0.1111111111111111,
              "#46039f"
             ],
             [
              0.2222222222222222,
              "#7201a8"
             ],
             [
              0.3333333333333333,
              "#9c179e"
             ],
             [
              0.4444444444444444,
              "#bd3786"
             ],
             [
              0.5555555555555556,
              "#d8576b"
             ],
             [
              0.6666666666666666,
              "#ed7953"
             ],
             [
              0.7777777777777778,
              "#fb9f3a"
             ],
             [
              0.8888888888888888,
              "#fdca26"
             ],
             [
              1,
              "#f0f921"
             ]
            ],
            "type": "contour"
           }
          ],
          "contourcarpet": [
           {
            "colorbar": {
             "outlinewidth": 0,
             "ticks": ""
            },
            "type": "contourcarpet"
           }
          ],
          "heatmap": [
           {
            "colorbar": {
             "outlinewidth": 0,
             "ticks": ""
            },
            "colorscale": [
             [
              0,
              "#0d0887"
             ],
             [
              0.1111111111111111,
              "#46039f"
             ],
             [
              0.2222222222222222,
              "#7201a8"
             ],
             [
              0.3333333333333333,
              "#9c179e"
             ],
             [
              0.4444444444444444,
              "#bd3786"
             ],
             [
              0.5555555555555556,
              "#d8576b"
             ],
             [
              0.6666666666666666,
              "#ed7953"
             ],
             [
              0.7777777777777778,
              "#fb9f3a"
             ],
             [
              0.8888888888888888,
              "#fdca26"
             ],
             [
              1,
              "#f0f921"
             ]
            ],
            "type": "heatmap"
           }
          ],
          "heatmapgl": [
           {
            "colorbar": {
             "outlinewidth": 0,
             "ticks": ""
            },
            "colorscale": [
             [
              0,
              "#0d0887"
             ],
             [
              0.1111111111111111,
              "#46039f"
             ],
             [
              0.2222222222222222,
              "#7201a8"
             ],
             [
              0.3333333333333333,
              "#9c179e"
             ],
             [
              0.4444444444444444,
              "#bd3786"
             ],
             [
              0.5555555555555556,
              "#d8576b"
             ],
             [
              0.6666666666666666,
              "#ed7953"
             ],
             [
              0.7777777777777778,
              "#fb9f3a"
             ],
             [
              0.8888888888888888,
              "#fdca26"
             ],
             [
              1,
              "#f0f921"
             ]
            ],
            "type": "heatmapgl"
           }
          ],
          "histogram": [
           {
            "marker": {
             "pattern": {
              "fillmode": "overlay",
              "size": 10,
              "solidity": 0.2
             }
            },
            "type": "histogram"
           }
          ],
          "histogram2d": [
           {
            "colorbar": {
             "outlinewidth": 0,
             "ticks": ""
            },
            "colorscale": [
             [
              0,
              "#0d0887"
             ],
             [
              0.1111111111111111,
              "#46039f"
             ],
             [
              0.2222222222222222,
              "#7201a8"
             ],
             [
              0.3333333333333333,
              "#9c179e"
             ],
             [
              0.4444444444444444,
              "#bd3786"
             ],
             [
              0.5555555555555556,
              "#d8576b"
             ],
             [
              0.6666666666666666,
              "#ed7953"
             ],
             [
              0.7777777777777778,
              "#fb9f3a"
             ],
             [
              0.8888888888888888,
              "#fdca26"
             ],
             [
              1,
              "#f0f921"
             ]
            ],
            "type": "histogram2d"
           }
          ],
          "histogram2dcontour": [
           {
            "colorbar": {
             "outlinewidth": 0,
             "ticks": ""
            },
            "colorscale": [
             [
              0,
              "#0d0887"
             ],
             [
              0.1111111111111111,
              "#46039f"
             ],
             [
              0.2222222222222222,
              "#7201a8"
             ],
             [
              0.3333333333333333,
              "#9c179e"
             ],
             [
              0.4444444444444444,
              "#bd3786"
             ],
             [
              0.5555555555555556,
              "#d8576b"
             ],
             [
              0.6666666666666666,
              "#ed7953"
             ],
             [
              0.7777777777777778,
              "#fb9f3a"
             ],
             [
              0.8888888888888888,
              "#fdca26"
             ],
             [
              1,
              "#f0f921"
             ]
            ],
            "type": "histogram2dcontour"
           }
          ],
          "mesh3d": [
           {
            "colorbar": {
             "outlinewidth": 0,
             "ticks": ""
            },
            "type": "mesh3d"
           }
          ],
          "parcoords": [
           {
            "line": {
             "colorbar": {
              "outlinewidth": 0,
              "ticks": ""
             }
            },
            "type": "parcoords"
           }
          ],
          "pie": [
           {
            "automargin": true,
            "type": "pie"
           }
          ],
          "scatter": [
           {
            "fillpattern": {
             "fillmode": "overlay",
             "size": 10,
             "solidity": 0.2
            },
            "type": "scatter"
           }
          ],
          "scatter3d": [
           {
            "line": {
             "colorbar": {
              "outlinewidth": 0,
              "ticks": ""
             }
            },
            "marker": {
             "colorbar": {
              "outlinewidth": 0,
              "ticks": ""
             }
            },
            "type": "scatter3d"
           }
          ],
          "scattercarpet": [
           {
            "marker": {
             "colorbar": {
              "outlinewidth": 0,
              "ticks": ""
             }
            },
            "type": "scattercarpet"
           }
          ],
          "scattergeo": [
           {
            "marker": {
             "colorbar": {
              "outlinewidth": 0,
              "ticks": ""
             }
            },
            "type": "scattergeo"
           }
          ],
          "scattergl": [
           {
            "marker": {
             "colorbar": {
              "outlinewidth": 0,
              "ticks": ""
             }
            },
            "type": "scattergl"
           }
          ],
          "scattermapbox": [
           {
            "marker": {
             "colorbar": {
              "outlinewidth": 0,
              "ticks": ""
             }
            },
            "type": "scattermapbox"
           }
          ],
          "scatterpolar": [
           {
            "marker": {
             "colorbar": {
              "outlinewidth": 0,
              "ticks": ""
             }
            },
            "type": "scatterpolar"
           }
          ],
          "scatterpolargl": [
           {
            "marker": {
             "colorbar": {
              "outlinewidth": 0,
              "ticks": ""
             }
            },
            "type": "scatterpolargl"
           }
          ],
          "scatterternary": [
           {
            "marker": {
             "colorbar": {
              "outlinewidth": 0,
              "ticks": ""
             }
            },
            "type": "scatterternary"
           }
          ],
          "surface": [
           {
            "colorbar": {
             "outlinewidth": 0,
             "ticks": ""
            },
            "colorscale": [
             [
              0,
              "#0d0887"
             ],
             [
              0.1111111111111111,
              "#46039f"
             ],
             [
              0.2222222222222222,
              "#7201a8"
             ],
             [
              0.3333333333333333,
              "#9c179e"
             ],
             [
              0.4444444444444444,
              "#bd3786"
             ],
             [
              0.5555555555555556,
              "#d8576b"
             ],
             [
              0.6666666666666666,
              "#ed7953"
             ],
             [
              0.7777777777777778,
              "#fb9f3a"
             ],
             [
              0.8888888888888888,
              "#fdca26"
             ],
             [
              1,
              "#f0f921"
             ]
            ],
            "type": "surface"
           }
          ],
          "table": [
           {
            "cells": {
             "fill": {
              "color": "#EBF0F8"
             },
             "line": {
              "color": "white"
             }
            },
            "header": {
             "fill": {
              "color": "#C8D4E3"
             },
             "line": {
              "color": "white"
             }
            },
            "type": "table"
           }
          ]
         },
         "layout": {
          "annotationdefaults": {
           "arrowcolor": "#2a3f5f",
           "arrowhead": 0,
           "arrowwidth": 1
          },
          "autotypenumbers": "strict",
          "coloraxis": {
           "colorbar": {
            "outlinewidth": 0,
            "ticks": ""
           }
          },
          "colorscale": {
           "diverging": [
            [
             0,
             "#8e0152"
            ],
            [
             0.1,
             "#c51b7d"
            ],
            [
             0.2,
             "#de77ae"
            ],
            [
             0.3,
             "#f1b6da"
            ],
            [
             0.4,
             "#fde0ef"
            ],
            [
             0.5,
             "#f7f7f7"
            ],
            [
             0.6,
             "#e6f5d0"
            ],
            [
             0.7,
             "#b8e186"
            ],
            [
             0.8,
             "#7fbc41"
            ],
            [
             0.9,
             "#4d9221"
            ],
            [
             1,
             "#276419"
            ]
           ],
           "sequential": [
            [
             0,
             "#0d0887"
            ],
            [
             0.1111111111111111,
             "#46039f"
            ],
            [
             0.2222222222222222,
             "#7201a8"
            ],
            [
             0.3333333333333333,
             "#9c179e"
            ],
            [
             0.4444444444444444,
             "#bd3786"
            ],
            [
             0.5555555555555556,
             "#d8576b"
            ],
            [
             0.6666666666666666,
             "#ed7953"
            ],
            [
             0.7777777777777778,
             "#fb9f3a"
            ],
            [
             0.8888888888888888,
             "#fdca26"
            ],
            [
             1,
             "#f0f921"
            ]
           ],
           "sequentialminus": [
            [
             0,
             "#0d0887"
            ],
            [
             0.1111111111111111,
             "#46039f"
            ],
            [
             0.2222222222222222,
             "#7201a8"
            ],
            [
             0.3333333333333333,
             "#9c179e"
            ],
            [
             0.4444444444444444,
             "#bd3786"
            ],
            [
             0.5555555555555556,
             "#d8576b"
            ],
            [
             0.6666666666666666,
             "#ed7953"
            ],
            [
             0.7777777777777778,
             "#fb9f3a"
            ],
            [
             0.8888888888888888,
             "#fdca26"
            ],
            [
             1,
             "#f0f921"
            ]
           ]
          },
          "colorway": [
           "#636efa",
           "#EF553B",
           "#00cc96",
           "#ab63fa",
           "#FFA15A",
           "#19d3f3",
           "#FF6692",
           "#B6E880",
           "#FF97FF",
           "#FECB52"
          ],
          "font": {
           "color": "#2a3f5f"
          },
          "geo": {
           "bgcolor": "white",
           "lakecolor": "white",
           "landcolor": "#E5ECF6",
           "showlakes": true,
           "showland": true,
           "subunitcolor": "white"
          },
          "hoverlabel": {
           "align": "left"
          },
          "hovermode": "closest",
          "mapbox": {
           "style": "light"
          },
          "paper_bgcolor": "white",
          "plot_bgcolor": "#E5ECF6",
          "polar": {
           "angularaxis": {
            "gridcolor": "white",
            "linecolor": "white",
            "ticks": ""
           },
           "bgcolor": "#E5ECF6",
           "radialaxis": {
            "gridcolor": "white",
            "linecolor": "white",
            "ticks": ""
           }
          },
          "scene": {
           "xaxis": {
            "backgroundcolor": "#E5ECF6",
            "gridcolor": "white",
            "gridwidth": 2,
            "linecolor": "white",
            "showbackground": true,
            "ticks": "",
            "zerolinecolor": "white"
           },
           "yaxis": {
            "backgroundcolor": "#E5ECF6",
            "gridcolor": "white",
            "gridwidth": 2,
            "linecolor": "white",
            "showbackground": true,
            "ticks": "",
            "zerolinecolor": "white"
           },
           "zaxis": {
            "backgroundcolor": "#E5ECF6",
            "gridcolor": "white",
            "gridwidth": 2,
            "linecolor": "white",
            "showbackground": true,
            "ticks": "",
            "zerolinecolor": "white"
           }
          },
          "shapedefaults": {
           "line": {
            "color": "#2a3f5f"
           }
          },
          "ternary": {
           "aaxis": {
            "gridcolor": "white",
            "linecolor": "white",
            "ticks": ""
           },
           "baxis": {
            "gridcolor": "white",
            "linecolor": "white",
            "ticks": ""
           },
           "bgcolor": "#E5ECF6",
           "caxis": {
            "gridcolor": "white",
            "linecolor": "white",
            "ticks": ""
           }
          },
          "title": {
           "x": 0.05
          },
          "xaxis": {
           "automargin": true,
           "gridcolor": "white",
           "linecolor": "white",
           "ticks": "",
           "title": {
            "standoff": 15
           },
           "zerolinecolor": "white",
           "zerolinewidth": 2
          },
          "yaxis": {
           "automargin": true,
           "gridcolor": "white",
           "linecolor": "white",
           "ticks": "",
           "title": {
            "standoff": 15
           },
           "zerolinecolor": "white",
           "zerolinewidth": 2
          }
         }
        },
        "title": {
         "text": "Gantt Chart"
        },
        "width": 800,
        "xaxis": {
         "rangeselector": {
          "buttons": [
           {
            "count": 7,
            "label": "1w",
            "step": "day",
            "stepmode": "backward"
           },
           {
            "count": 1,
            "label": "1m",
            "step": "month",
            "stepmode": "backward"
           },
           {
            "count": 6,
            "label": "6m",
            "step": "month",
            "stepmode": "backward"
           },
           {
            "count": 1,
            "label": "YTD",
            "step": "year",
            "stepmode": "todate"
           },
           {
            "count": 1,
            "label": "1y",
            "step": "year",
            "stepmode": "backward"
           },
           {
            "step": "all"
           }
          ]
         },
         "showgrid": false,
         "type": "linear",
         "zeroline": false
        },
        "yaxis": {
         "autorange": false,
         "range": [
          -1,
          11
         ],
         "showgrid": false,
         "ticktext": [
          "Atlantic",
          "Carina",
          "Hansa",
          "Onassis",
          "Megara",
          "Panega",
          "Waldhof",
          "Duandra",
          "Neptun",
          "Natalie"
         ],
         "tickvals": [
          0,
          1,
          2,
          3,
          4,
          5,
          6,
          7,
          8,
          9
         ],
         "zeroline": false
        }
       }
      }
     },
     "metadata": {},
     "output_type": "display_data"
    }
   ],
   "source": [
    "df = pd.DataFrame(index=np.arange(0, len(ships)*len(stations)), columns=[\"Task\", \"Start\", \"Finish\", \"Station\"])\n",
    "cnt = 0\n",
    "for s in ships:\n",
    "    for p in stations:\n",
    "        for c in categories:\n",
    "            if category.loc[s,c] == 1:\n",
    "                ship_category = c\n",
    "        df.iloc[cnt, 0] = names[s]\n",
    "        df.iloc[cnt, 1] = (x[s,p].solution_value - 1) * 15\n",
    "        if t[s,p].solution_value == 1:\n",
    "            df.iloc[cnt, 2] = ((x[s,p].solution_value + unloading.loc[ship_category,p]) - 1) * 15\n",
    "        else:\n",
    "            df.iloc[cnt, 2] = x[s,p].solution_value * 15\n",
    "        df.iloc[cnt,3] = p\n",
    "        cnt += 1\n",
    "\n",
    "colors = {1: \"rgb(255, 0, 0)\",\n",
    "         2: \"rgb(0, 255, 0)\",\n",
    "         3: \"rgb(0, 0, 255)\",\n",
    "         4: \"rgb(150, 150, 150)\"}\n",
    "\n",
    "fig = ff.create_gantt(df, colors=colors, index_col=\"Station\", show_colorbar=True, group_tasks=True, bar_width=0.4)\n",
    "fig.update_layout(xaxis_type='linear', autosize=False, width=800, height=600)\n",
    "fig.show()"
   ]
  },
  {
   "cell_type": "markdown",
   "metadata": {},
   "source": [
    "## Instance 3"
   ]
  },
  {
   "cell_type": "code",
   "execution_count": 163,
   "metadata": {},
   "outputs": [],
   "source": [
    "# Load the Excel file\n",
    "file_path = \"inst3.xlsx\"\n",
    "excel_data = pd.ExcelFile(file_path)\n",
    "\n",
    "# Read data\n",
    "unloading = excel_data.parse(\"Problem_3\", index_col=None, header=0, usecols=\"B:E\", nrows=5, skiprows=1)\n",
    "cat = excel_data.parse(\"Problem_3\", index_col=None, header=0, usecols=\"G:H\", nrows=8, skiprows=1)\n",
    "arrival = excel_data.parse(\"Problem_3\", index_col=None, header=0, usecols=\"J:K\", nrows=8, skiprows=1)\n",
    "\n",
    "# indices\n",
    "ships = np.arange(1, len(arrival)+1)\n",
    "stations = np.arange(1, len(unloading.columns)+1)\n",
    "categories = np.arange(1, len(unloading)+1)\n",
    "names = {a+1: arrival.iloc[a,0] for a in range(0, len(arrival))}\n",
    "\n",
    "# Changing input\n",
    "unloading.index = categories\n",
    "unloading.columns = stations\n",
    "arrival = {a+1: arrival.iloc[a,1] for a in range(0, len(arrival))}\n",
    "\n",
    "# BigM\n",
    "BigM = 99999\n",
    "\n",
    "# Combined parameters\n",
    "conform = pd.DataFrame(index=categories, columns=stations)\n",
    "for c in categories:\n",
    "    for p in stations:\n",
    "        conform.loc[c,p] = 1 if unloading.loc[c,p] < 1000 else 0\n",
    "\n",
    "cat.iloc[:,0] = np.arange(1, len(cat)+1)\n",
    "category = pd.DataFrame(0, index=ships, columns=categories)\n",
    "for _ in range(0,len(cat)):\n",
    "    category.loc[cat.iloc[_,0], cat.iloc[_,1]] = 1"
   ]
  },
  {
   "cell_type": "code",
   "execution_count": 164,
   "metadata": {},
   "outputs": [
    {
     "name": "stdout",
     "output_type": "stream",
     "text": [
      "status  = integer optimal solution\n",
      "time    = 0.656 s.\n",
      "problem = MILP\n",
      "gap     = 0%\n",
      "\n",
      "The objective value is 20.0 Periods\n"
     ]
    }
   ],
   "source": [
    "m.clear()\n",
    "m, x, t, e, c_max = solve_model()"
   ]
  },
  {
   "cell_type": "markdown",
   "metadata": {},
   "source": [
    "#### Visualization"
   ]
  },
  {
   "cell_type": "code",
   "execution_count": 165,
   "metadata": {},
   "outputs": [
    {
     "data": {
      "application/vnd.plotly.v1+json": {
       "config": {
        "plotlyServerURL": "https://plot.ly"
       },
       "data": [
        {
         "fill": "toself",
         "fillcolor": "rgb(0, 0, 255)",
         "hoverinfo": "name",
         "legendgroup": "rgb(0, 0, 255)",
         "mode": "none",
         "name": "3",
         "type": "scatter",
         "x": [
          165,
          180,
          180,
          165,
          165,
          60,
          75,
          75,
          60,
          60,
          75,
          120,
          120,
          75,
          75,
          255,
          270,
          270,
          255,
          255,
          195,
          240,
          240,
          195,
          195,
          135,
          150,
          150,
          135,
          135,
          270,
          285,
          285,
          270,
          270,
          150,
          165,
          165,
          150
         ],
         "y": [
          6.6,
          6.6,
          7.4,
          7.4,
          null,
          5.6,
          5.6,
          6.4,
          6.4,
          null,
          4.6,
          4.6,
          5.4,
          5.4,
          null,
          3.6,
          3.6,
          4.4,
          4.4,
          null,
          2.6,
          2.6,
          3.4,
          3.4,
          null,
          1.6,
          1.6,
          2.4,
          2.4,
          null,
          0.6,
          0.6,
          1.4,
          1.4,
          null,
          -0.4,
          -0.4,
          0.4,
          0.4
         ]
        },
        {
         "fill": "toself",
         "fillcolor": "rgb(0, 255, 0)",
         "hoverinfo": "name",
         "legendgroup": "rgb(0, 255, 0)",
         "mode": "none",
         "name": "2",
         "type": "scatter",
         "x": [
          135,
          150,
          150,
          135,
          135,
          45,
          60,
          60,
          45,
          45,
          60,
          75,
          75,
          60,
          60,
          165,
          195,
          195,
          165,
          165,
          150,
          165,
          165,
          150,
          150,
          75,
          105,
          105,
          75,
          75,
          255,
          270,
          270,
          255,
          255,
          120,
          135,
          135,
          120
         ],
         "y": [
          6.6,
          6.6,
          7.4,
          7.4,
          null,
          5.6,
          5.6,
          6.4,
          6.4,
          null,
          4.6,
          4.6,
          5.4,
          5.4,
          null,
          3.6,
          3.6,
          4.4,
          4.4,
          null,
          2.6,
          2.6,
          3.4,
          3.4,
          null,
          1.6,
          1.6,
          2.4,
          2.4,
          null,
          0.6,
          0.6,
          1.4,
          1.4,
          null,
          -0.4,
          -0.4,
          0.4,
          0.4
         ]
        },
        {
         "fill": "toself",
         "fillcolor": "rgb(150, 150, 150)",
         "hoverinfo": "name",
         "legendgroup": "rgb(150, 150, 150)",
         "mode": "none",
         "name": "4",
         "type": "scatter",
         "x": [
          180,
          240,
          240,
          180,
          180,
          75,
          90,
          90,
          75,
          75,
          135,
          150,
          150,
          135,
          135,
          270,
          285,
          285,
          270,
          270,
          255,
          270,
          270,
          255,
          255,
          150,
          165,
          165,
          150,
          150,
          285,
          300,
          300,
          285,
          285,
          165,
          180,
          180,
          165
         ],
         "y": [
          6.6,
          6.6,
          7.4,
          7.4,
          null,
          5.6,
          5.6,
          6.4,
          6.4,
          null,
          4.6,
          4.6,
          5.4,
          5.4,
          null,
          3.6,
          3.6,
          4.4,
          4.4,
          null,
          2.6,
          2.6,
          3.4,
          3.4,
          null,
          1.6,
          1.6,
          2.4,
          2.4,
          null,
          0.6,
          0.6,
          1.4,
          1.4,
          null,
          -0.4,
          -0.4,
          0.4,
          0.4
         ]
        },
        {
         "fill": "toself",
         "fillcolor": "rgb(255, 0, 0)",
         "hoverinfo": "name",
         "legendgroup": "rgb(255, 0, 0)",
         "mode": "none",
         "name": "1",
         "type": "scatter",
         "x": [
          120,
          135,
          135,
          120,
          120,
          0,
          30,
          30,
          0,
          0,
          45,
          60,
          60,
          45,
          45,
          150,
          165,
          165,
          150,
          150,
          135,
          150,
          150,
          135,
          135,
          60,
          75,
          75,
          60,
          60,
          165,
          240,
          240,
          165,
          165,
          75,
          105,
          105,
          75
         ],
         "y": [
          6.6,
          6.6,
          7.4,
          7.4,
          null,
          5.6,
          5.6,
          6.4,
          6.4,
          null,
          4.6,
          4.6,
          5.4,
          5.4,
          null,
          3.6,
          3.6,
          4.4,
          4.4,
          null,
          2.6,
          2.6,
          3.4,
          3.4,
          null,
          1.6,
          1.6,
          2.4,
          2.4,
          null,
          0.6,
          0.6,
          1.4,
          1.4,
          null,
          -0.4,
          -0.4,
          0.4,
          0.4
         ]
        },
        {
         "legendgroup": "rgb(0, 0, 255)",
         "marker": {
          "color": "rgb(0, 0, 255)",
          "opacity": 0,
          "size": 1
         },
         "mode": "markers",
         "name": "",
         "showlegend": false,
         "text": [
          null,
          null,
          null,
          null,
          null,
          null,
          null,
          null,
          null,
          null,
          null,
          null,
          null,
          null,
          null,
          null
         ],
         "type": "scatter",
         "x": [
          165,
          180,
          60,
          75,
          75,
          120,
          255,
          270,
          195,
          240,
          135,
          150,
          270,
          285,
          150,
          165
         ],
         "y": [
          7,
          7,
          6,
          6,
          5,
          5,
          4,
          4,
          3,
          3,
          2,
          2,
          1,
          1,
          0,
          0
         ]
        },
        {
         "legendgroup": "rgb(0, 255, 0)",
         "marker": {
          "color": "rgb(0, 255, 0)",
          "opacity": 0,
          "size": 1
         },
         "mode": "markers",
         "name": "",
         "showlegend": false,
         "text": [
          null,
          null,
          null,
          null,
          null,
          null,
          null,
          null,
          null,
          null,
          null,
          null,
          null,
          null,
          null,
          null
         ],
         "type": "scatter",
         "x": [
          135,
          150,
          45,
          60,
          60,
          75,
          165,
          195,
          150,
          165,
          75,
          105,
          255,
          270,
          120,
          135
         ],
         "y": [
          7,
          7,
          6,
          6,
          5,
          5,
          4,
          4,
          3,
          3,
          2,
          2,
          1,
          1,
          0,
          0
         ]
        },
        {
         "legendgroup": "rgb(150, 150, 150)",
         "marker": {
          "color": "rgb(150, 150, 150)",
          "opacity": 0,
          "size": 1
         },
         "mode": "markers",
         "name": "",
         "showlegend": false,
         "text": [
          null,
          null,
          null,
          null,
          null,
          null,
          null,
          null,
          null,
          null,
          null,
          null,
          null,
          null,
          null,
          null
         ],
         "type": "scatter",
         "x": [
          180,
          240,
          75,
          90,
          135,
          150,
          270,
          285,
          255,
          270,
          150,
          165,
          285,
          300,
          165,
          180
         ],
         "y": [
          7,
          7,
          6,
          6,
          5,
          5,
          4,
          4,
          3,
          3,
          2,
          2,
          1,
          1,
          0,
          0
         ]
        },
        {
         "legendgroup": "rgb(255, 0, 0)",
         "marker": {
          "color": "rgb(255, 0, 0)",
          "opacity": 0,
          "size": 1
         },
         "mode": "markers",
         "name": "",
         "showlegend": false,
         "text": [
          null,
          null,
          null,
          null,
          null,
          null,
          null,
          null,
          null,
          null,
          null,
          null,
          null,
          null,
          null,
          null
         ],
         "type": "scatter",
         "x": [
          120,
          135,
          0,
          30,
          45,
          60,
          150,
          165,
          135,
          150,
          60,
          75,
          165,
          240,
          75,
          105
         ],
         "y": [
          7,
          7,
          6,
          6,
          5,
          5,
          4,
          4,
          3,
          3,
          2,
          2,
          1,
          1,
          0,
          0
         ]
        }
       ],
       "layout": {
        "autosize": false,
        "height": 600,
        "hovermode": "closest",
        "showlegend": true,
        "template": {
         "data": {
          "bar": [
           {
            "error_x": {
             "color": "#2a3f5f"
            },
            "error_y": {
             "color": "#2a3f5f"
            },
            "marker": {
             "line": {
              "color": "#E5ECF6",
              "width": 0.5
             },
             "pattern": {
              "fillmode": "overlay",
              "size": 10,
              "solidity": 0.2
             }
            },
            "type": "bar"
           }
          ],
          "barpolar": [
           {
            "marker": {
             "line": {
              "color": "#E5ECF6",
              "width": 0.5
             },
             "pattern": {
              "fillmode": "overlay",
              "size": 10,
              "solidity": 0.2
             }
            },
            "type": "barpolar"
           }
          ],
          "carpet": [
           {
            "aaxis": {
             "endlinecolor": "#2a3f5f",
             "gridcolor": "white",
             "linecolor": "white",
             "minorgridcolor": "white",
             "startlinecolor": "#2a3f5f"
            },
            "baxis": {
             "endlinecolor": "#2a3f5f",
             "gridcolor": "white",
             "linecolor": "white",
             "minorgridcolor": "white",
             "startlinecolor": "#2a3f5f"
            },
            "type": "carpet"
           }
          ],
          "choropleth": [
           {
            "colorbar": {
             "outlinewidth": 0,
             "ticks": ""
            },
            "type": "choropleth"
           }
          ],
          "contour": [
           {
            "colorbar": {
             "outlinewidth": 0,
             "ticks": ""
            },
            "colorscale": [
             [
              0,
              "#0d0887"
             ],
             [
              0.1111111111111111,
              "#46039f"
             ],
             [
              0.2222222222222222,
              "#7201a8"
             ],
             [
              0.3333333333333333,
              "#9c179e"
             ],
             [
              0.4444444444444444,
              "#bd3786"
             ],
             [
              0.5555555555555556,
              "#d8576b"
             ],
             [
              0.6666666666666666,
              "#ed7953"
             ],
             [
              0.7777777777777778,
              "#fb9f3a"
             ],
             [
              0.8888888888888888,
              "#fdca26"
             ],
             [
              1,
              "#f0f921"
             ]
            ],
            "type": "contour"
           }
          ],
          "contourcarpet": [
           {
            "colorbar": {
             "outlinewidth": 0,
             "ticks": ""
            },
            "type": "contourcarpet"
           }
          ],
          "heatmap": [
           {
            "colorbar": {
             "outlinewidth": 0,
             "ticks": ""
            },
            "colorscale": [
             [
              0,
              "#0d0887"
             ],
             [
              0.1111111111111111,
              "#46039f"
             ],
             [
              0.2222222222222222,
              "#7201a8"
             ],
             [
              0.3333333333333333,
              "#9c179e"
             ],
             [
              0.4444444444444444,
              "#bd3786"
             ],
             [
              0.5555555555555556,
              "#d8576b"
             ],
             [
              0.6666666666666666,
              "#ed7953"
             ],
             [
              0.7777777777777778,
              "#fb9f3a"
             ],
             [
              0.8888888888888888,
              "#fdca26"
             ],
             [
              1,
              "#f0f921"
             ]
            ],
            "type": "heatmap"
           }
          ],
          "heatmapgl": [
           {
            "colorbar": {
             "outlinewidth": 0,
             "ticks": ""
            },
            "colorscale": [
             [
              0,
              "#0d0887"
             ],
             [
              0.1111111111111111,
              "#46039f"
             ],
             [
              0.2222222222222222,
              "#7201a8"
             ],
             [
              0.3333333333333333,
              "#9c179e"
             ],
             [
              0.4444444444444444,
              "#bd3786"
             ],
             [
              0.5555555555555556,
              "#d8576b"
             ],
             [
              0.6666666666666666,
              "#ed7953"
             ],
             [
              0.7777777777777778,
              "#fb9f3a"
             ],
             [
              0.8888888888888888,
              "#fdca26"
             ],
             [
              1,
              "#f0f921"
             ]
            ],
            "type": "heatmapgl"
           }
          ],
          "histogram": [
           {
            "marker": {
             "pattern": {
              "fillmode": "overlay",
              "size": 10,
              "solidity": 0.2
             }
            },
            "type": "histogram"
           }
          ],
          "histogram2d": [
           {
            "colorbar": {
             "outlinewidth": 0,
             "ticks": ""
            },
            "colorscale": [
             [
              0,
              "#0d0887"
             ],
             [
              0.1111111111111111,
              "#46039f"
             ],
             [
              0.2222222222222222,
              "#7201a8"
             ],
             [
              0.3333333333333333,
              "#9c179e"
             ],
             [
              0.4444444444444444,
              "#bd3786"
             ],
             [
              0.5555555555555556,
              "#d8576b"
             ],
             [
              0.6666666666666666,
              "#ed7953"
             ],
             [
              0.7777777777777778,
              "#fb9f3a"
             ],
             [
              0.8888888888888888,
              "#fdca26"
             ],
             [
              1,
              "#f0f921"
             ]
            ],
            "type": "histogram2d"
           }
          ],
          "histogram2dcontour": [
           {
            "colorbar": {
             "outlinewidth": 0,
             "ticks": ""
            },
            "colorscale": [
             [
              0,
              "#0d0887"
             ],
             [
              0.1111111111111111,
              "#46039f"
             ],
             [
              0.2222222222222222,
              "#7201a8"
             ],
             [
              0.3333333333333333,
              "#9c179e"
             ],
             [
              0.4444444444444444,
              "#bd3786"
             ],
             [
              0.5555555555555556,
              "#d8576b"
             ],
             [
              0.6666666666666666,
              "#ed7953"
             ],
             [
              0.7777777777777778,
              "#fb9f3a"
             ],
             [
              0.8888888888888888,
              "#fdca26"
             ],
             [
              1,
              "#f0f921"
             ]
            ],
            "type": "histogram2dcontour"
           }
          ],
          "mesh3d": [
           {
            "colorbar": {
             "outlinewidth": 0,
             "ticks": ""
            },
            "type": "mesh3d"
           }
          ],
          "parcoords": [
           {
            "line": {
             "colorbar": {
              "outlinewidth": 0,
              "ticks": ""
             }
            },
            "type": "parcoords"
           }
          ],
          "pie": [
           {
            "automargin": true,
            "type": "pie"
           }
          ],
          "scatter": [
           {
            "fillpattern": {
             "fillmode": "overlay",
             "size": 10,
             "solidity": 0.2
            },
            "type": "scatter"
           }
          ],
          "scatter3d": [
           {
            "line": {
             "colorbar": {
              "outlinewidth": 0,
              "ticks": ""
             }
            },
            "marker": {
             "colorbar": {
              "outlinewidth": 0,
              "ticks": ""
             }
            },
            "type": "scatter3d"
           }
          ],
          "scattercarpet": [
           {
            "marker": {
             "colorbar": {
              "outlinewidth": 0,
              "ticks": ""
             }
            },
            "type": "scattercarpet"
           }
          ],
          "scattergeo": [
           {
            "marker": {
             "colorbar": {
              "outlinewidth": 0,
              "ticks": ""
             }
            },
            "type": "scattergeo"
           }
          ],
          "scattergl": [
           {
            "marker": {
             "colorbar": {
              "outlinewidth": 0,
              "ticks": ""
             }
            },
            "type": "scattergl"
           }
          ],
          "scattermapbox": [
           {
            "marker": {
             "colorbar": {
              "outlinewidth": 0,
              "ticks": ""
             }
            },
            "type": "scattermapbox"
           }
          ],
          "scatterpolar": [
           {
            "marker": {
             "colorbar": {
              "outlinewidth": 0,
              "ticks": ""
             }
            },
            "type": "scatterpolar"
           }
          ],
          "scatterpolargl": [
           {
            "marker": {
             "colorbar": {
              "outlinewidth": 0,
              "ticks": ""
             }
            },
            "type": "scatterpolargl"
           }
          ],
          "scatterternary": [
           {
            "marker": {
             "colorbar": {
              "outlinewidth": 0,
              "ticks": ""
             }
            },
            "type": "scatterternary"
           }
          ],
          "surface": [
           {
            "colorbar": {
             "outlinewidth": 0,
             "ticks": ""
            },
            "colorscale": [
             [
              0,
              "#0d0887"
             ],
             [
              0.1111111111111111,
              "#46039f"
             ],
             [
              0.2222222222222222,
              "#7201a8"
             ],
             [
              0.3333333333333333,
              "#9c179e"
             ],
             [
              0.4444444444444444,
              "#bd3786"
             ],
             [
              0.5555555555555556,
              "#d8576b"
             ],
             [
              0.6666666666666666,
              "#ed7953"
             ],
             [
              0.7777777777777778,
              "#fb9f3a"
             ],
             [
              0.8888888888888888,
              "#fdca26"
             ],
             [
              1,
              "#f0f921"
             ]
            ],
            "type": "surface"
           }
          ],
          "table": [
           {
            "cells": {
             "fill": {
              "color": "#EBF0F8"
             },
             "line": {
              "color": "white"
             }
            },
            "header": {
             "fill": {
              "color": "#C8D4E3"
             },
             "line": {
              "color": "white"
             }
            },
            "type": "table"
           }
          ]
         },
         "layout": {
          "annotationdefaults": {
           "arrowcolor": "#2a3f5f",
           "arrowhead": 0,
           "arrowwidth": 1
          },
          "autotypenumbers": "strict",
          "coloraxis": {
           "colorbar": {
            "outlinewidth": 0,
            "ticks": ""
           }
          },
          "colorscale": {
           "diverging": [
            [
             0,
             "#8e0152"
            ],
            [
             0.1,
             "#c51b7d"
            ],
            [
             0.2,
             "#de77ae"
            ],
            [
             0.3,
             "#f1b6da"
            ],
            [
             0.4,
             "#fde0ef"
            ],
            [
             0.5,
             "#f7f7f7"
            ],
            [
             0.6,
             "#e6f5d0"
            ],
            [
             0.7,
             "#b8e186"
            ],
            [
             0.8,
             "#7fbc41"
            ],
            [
             0.9,
             "#4d9221"
            ],
            [
             1,
             "#276419"
            ]
           ],
           "sequential": [
            [
             0,
             "#0d0887"
            ],
            [
             0.1111111111111111,
             "#46039f"
            ],
            [
             0.2222222222222222,
             "#7201a8"
            ],
            [
             0.3333333333333333,
             "#9c179e"
            ],
            [
             0.4444444444444444,
             "#bd3786"
            ],
            [
             0.5555555555555556,
             "#d8576b"
            ],
            [
             0.6666666666666666,
             "#ed7953"
            ],
            [
             0.7777777777777778,
             "#fb9f3a"
            ],
            [
             0.8888888888888888,
             "#fdca26"
            ],
            [
             1,
             "#f0f921"
            ]
           ],
           "sequentialminus": [
            [
             0,
             "#0d0887"
            ],
            [
             0.1111111111111111,
             "#46039f"
            ],
            [
             0.2222222222222222,
             "#7201a8"
            ],
            [
             0.3333333333333333,
             "#9c179e"
            ],
            [
             0.4444444444444444,
             "#bd3786"
            ],
            [
             0.5555555555555556,
             "#d8576b"
            ],
            [
             0.6666666666666666,
             "#ed7953"
            ],
            [
             0.7777777777777778,
             "#fb9f3a"
            ],
            [
             0.8888888888888888,
             "#fdca26"
            ],
            [
             1,
             "#f0f921"
            ]
           ]
          },
          "colorway": [
           "#636efa",
           "#EF553B",
           "#00cc96",
           "#ab63fa",
           "#FFA15A",
           "#19d3f3",
           "#FF6692",
           "#B6E880",
           "#FF97FF",
           "#FECB52"
          ],
          "font": {
           "color": "#2a3f5f"
          },
          "geo": {
           "bgcolor": "white",
           "lakecolor": "white",
           "landcolor": "#E5ECF6",
           "showlakes": true,
           "showland": true,
           "subunitcolor": "white"
          },
          "hoverlabel": {
           "align": "left"
          },
          "hovermode": "closest",
          "mapbox": {
           "style": "light"
          },
          "paper_bgcolor": "white",
          "plot_bgcolor": "#E5ECF6",
          "polar": {
           "angularaxis": {
            "gridcolor": "white",
            "linecolor": "white",
            "ticks": ""
           },
           "bgcolor": "#E5ECF6",
           "radialaxis": {
            "gridcolor": "white",
            "linecolor": "white",
            "ticks": ""
           }
          },
          "scene": {
           "xaxis": {
            "backgroundcolor": "#E5ECF6",
            "gridcolor": "white",
            "gridwidth": 2,
            "linecolor": "white",
            "showbackground": true,
            "ticks": "",
            "zerolinecolor": "white"
           },
           "yaxis": {
            "backgroundcolor": "#E5ECF6",
            "gridcolor": "white",
            "gridwidth": 2,
            "linecolor": "white",
            "showbackground": true,
            "ticks": "",
            "zerolinecolor": "white"
           },
           "zaxis": {
            "backgroundcolor": "#E5ECF6",
            "gridcolor": "white",
            "gridwidth": 2,
            "linecolor": "white",
            "showbackground": true,
            "ticks": "",
            "zerolinecolor": "white"
           }
          },
          "shapedefaults": {
           "line": {
            "color": "#2a3f5f"
           }
          },
          "ternary": {
           "aaxis": {
            "gridcolor": "white",
            "linecolor": "white",
            "ticks": ""
           },
           "baxis": {
            "gridcolor": "white",
            "linecolor": "white",
            "ticks": ""
           },
           "bgcolor": "#E5ECF6",
           "caxis": {
            "gridcolor": "white",
            "linecolor": "white",
            "ticks": ""
           }
          },
          "title": {
           "x": 0.05
          },
          "xaxis": {
           "automargin": true,
           "gridcolor": "white",
           "linecolor": "white",
           "ticks": "",
           "title": {
            "standoff": 15
           },
           "zerolinecolor": "white",
           "zerolinewidth": 2
          },
          "yaxis": {
           "automargin": true,
           "gridcolor": "white",
           "linecolor": "white",
           "ticks": "",
           "title": {
            "standoff": 15
           },
           "zerolinecolor": "white",
           "zerolinewidth": 2
          }
         }
        },
        "title": {
         "text": "Gantt Chart"
        },
        "width": 800,
        "xaxis": {
         "rangeselector": {
          "buttons": [
           {
            "count": 7,
            "label": "1w",
            "step": "day",
            "stepmode": "backward"
           },
           {
            "count": 1,
            "label": "1m",
            "step": "month",
            "stepmode": "backward"
           },
           {
            "count": 6,
            "label": "6m",
            "step": "month",
            "stepmode": "backward"
           },
           {
            "count": 1,
            "label": "YTD",
            "step": "year",
            "stepmode": "todate"
           },
           {
            "count": 1,
            "label": "1y",
            "step": "year",
            "stepmode": "backward"
           },
           {
            "step": "all"
           }
          ]
         },
         "showgrid": false,
         "type": "linear",
         "zeroline": false
        },
        "yaxis": {
         "autorange": false,
         "range": [
          -1,
          9
         ],
         "showgrid": false,
         "ticktext": [
          "Nestor",
          "Poseidon",
          "Helena",
          "Odysseus",
          "Ajax",
          "Hektor",
          "Paris",
          "Okeanos"
         ],
         "tickvals": [
          0,
          1,
          2,
          3,
          4,
          5,
          6,
          7
         ],
         "zeroline": false
        }
       }
      }
     },
     "metadata": {},
     "output_type": "display_data"
    }
   ],
   "source": [
    "df = pd.DataFrame(index=np.arange(0, len(ships)*len(stations)), columns=[\"Task\", \"Start\", \"Finish\", \"Station\"])\n",
    "cnt = 0\n",
    "for s in ships:\n",
    "    for p in stations:\n",
    "        for c in categories:\n",
    "            if category.loc[s,c] == 1:\n",
    "                ship_category = c\n",
    "        df.iloc[cnt, 0] = names[s]\n",
    "        df.iloc[cnt, 1] = (x[s,p].solution_value - 1) * 15\n",
    "        if t[s,p].solution_value == 1:\n",
    "            df.iloc[cnt, 2] = ((x[s,p].solution_value + unloading.loc[ship_category,p]) - 1) * 15\n",
    "        else:\n",
    "            df.iloc[cnt, 2] = x[s,p].solution_value * 15\n",
    "        df.iloc[cnt,3] = p\n",
    "        cnt += 1\n",
    "\n",
    "colors = {1: \"rgb(255, 0, 0)\",\n",
    "         2: \"rgb(0, 255, 0)\",\n",
    "         3: \"rgb(0, 0, 255)\",\n",
    "         4: \"rgb(150, 150, 150)\"}\n",
    "\n",
    "fig = ff.create_gantt(df, colors=colors, index_col=\"Station\", show_colorbar=True, group_tasks=True, bar_width=0.4)\n",
    "fig.update_layout(xaxis_type='linear', autosize=False, width=800, height=600)\n",
    "fig.show()"
   ]
  }
 ],
 "metadata": {
  "kernelspec": {
   "display_name": "base",
   "language": "python",
   "name": "python3"
  },
  "language_info": {
   "codemirror_mode": {
    "name": "ipython",
    "version": 3
   },
   "file_extension": ".py",
   "mimetype": "text/x-python",
   "name": "python",
   "nbconvert_exporter": "python",
   "pygments_lexer": "ipython3",
   "version": "3.9.13"
  }
 },
 "nbformat": 4,
 "nbformat_minor": 2
}
