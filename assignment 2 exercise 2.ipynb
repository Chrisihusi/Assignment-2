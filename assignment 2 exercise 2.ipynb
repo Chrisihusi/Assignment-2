{
 "cells": [
  {
   "cell_type": "code",
   "execution_count": 1,
   "metadata": {},
   "outputs": [],
   "source": [
    "import pandas as pd\n",
    "import numpy as np\n",
    "import docplex\n",
    "from docplex.mp.model import Model"
   ]
  },
  {
   "cell_type": "code",
   "execution_count": 49,
   "metadata": {},
   "outputs": [],
   "source": [
    "# Load the Excel file\n",
    "file_path = \"inst1.xlsx\"\n",
    "excel_data = pd.ExcelFile(file_path)\n",
    "\n",
    "# Read data\n",
    "unloading = excel_data.parse(\"Problem_1\", index_col=None, header=0, usecols=\"B:E\", nrows=5, skiprows=1)\n",
    "cat = excel_data.parse(\"Problem_1\", index_col=None, header=0, usecols=\"G:H\", nrows=8, skiprows=1)\n",
    "arrival = excel_data.parse(\"Problem_1\", index_col=None, header=0, usecols=\"J:K\", nrows=8, skiprows=1)\n",
    "\n",
    "# indices\n",
    "ships = np.arange(1, len(arrival)+1)\n",
    "stations = np.arange(1, len(unloading.columns)+1)\n",
    "categories = np.arange(1, len(unloading)+1)\n",
    "\n",
    "# Changing input\n",
    "unloading.index = categories\n",
    "unloading.columns = stations\n",
    "arrival = {arrival.iloc[a,0]: arrival.iloc[a,1] for a in range(0, len(arrival))}\n",
    "cat = {cat.iloc[c,0]: cat.iloc[c,1] for c in range(0, len(cat))}\n",
    "\n",
    "# BigM\n",
    "BigM = 99999\n",
    "\n",
    "# Combined parameters\n",
    "\n",
    "\n",
    "\n"
   ]
  },
  {
   "cell_type": "code",
   "execution_count": 22,
   "metadata": {},
   "outputs": [],
   "source": [
    "model = Model(name=\"ship_sheduling\", log_output=False)"
   ]
  }
 ],
 "metadata": {
  "kernelspec": {
   "display_name": "base",
   "language": "python",
   "name": "python3"
  },
  "language_info": {
   "codemirror_mode": {
    "name": "ipython",
    "version": 3
   },
   "file_extension": ".py",
   "mimetype": "text/x-python",
   "name": "python",
   "nbconvert_exporter": "python",
   "pygments_lexer": "ipython3",
   "version": "3.9.13"
  }
 },
 "nbformat": 4,
 "nbformat_minor": 2
}
